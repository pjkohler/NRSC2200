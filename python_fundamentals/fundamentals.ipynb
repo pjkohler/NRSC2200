{
 "cells": [
  {
   "cell_type": "markdown",
   "id": "f1ae7649",
   "metadata": {},
   "source": [
    "# Fundamentals of Python"
   ]
  },
  {
   "cell_type": "markdown",
   "id": "1d67b491",
   "metadata": {},
   "source": [
    "## Working with the Jupyter Notebook\n",
    "\n",
    "1. There are two basic types of cells, Code and Markdown. \n",
    "\n",
    "\n",
    "2. Markdown cells contains meta-text that explains what is going on in the code cells. For our purposes, the code cells contain Python code only. \n",
    "\n",
    "\n",
    "3. Some shortcuts (more can be found in the menu above):\n",
    "    * \"shift + enter\": run the currently selected cell\n",
    "    * \"A\" / \"B\": insert a new cell above or below the current cell\n",
    "    \n",
    "\n",
    "4. Within a code cell \"#\" is used for comments (this is true for Python code everywhere)\n",
    "\n",
    "\n",
    "5. Code cells will need to be run in order to take effect and change the workspace. \n",
    "\n",
    "**Compared to other languages I have used, Python always seems to have 1000 ways of doing the same thing. Do not let that freak you out.**"
   ]
  },
  {
   "cell_type": "markdown",
   "id": "7bc273b0",
   "metadata": {},
   "source": [
    "This code was inspired by Mark Kramer's [Python for the Practicing Neuroscientist](https://hub.gke2.mybinder.org/user/mark-kramer-case-studies-python-qflt1uo9/notebooks/01.ipynb) which provides additional details that were not included here. I recommended checking that out. "
   ]
  },
  {
   "cell_type": "markdown",
   "id": "f931fa0b",
   "metadata": {},
   "source": [
    "## Importing modules"
   ]
  },
  {
   "cell_type": "code",
   "execution_count": 1,
   "id": "18deea36",
   "metadata": {},
   "outputs": [],
   "source": [
    "import numpy as np"
   ]
  },
  {
   "cell_type": "markdown",
   "id": "48b38ecc",
   "metadata": {},
   "source": [
    "## The workspace"
   ]
  },
  {
   "cell_type": "code",
   "execution_count": 3,
   "id": "3ed52c28",
   "metadata": {},
   "outputs": [],
   "source": [
    "# let's define a few variables\n",
    "my_dog = \"golden retriever\"\n",
    "dog_age = 5"
   ]
  },
  {
   "cell_type": "code",
   "execution_count": 6,
   "id": "d18a61ec",
   "metadata": {},
   "outputs": [
    {
     "name": "stdout",
     "output_type": "stream",
     "text": [
      "dog_age\t my_dog\t np\t \n"
     ]
    }
   ],
   "source": [
    "# list variables in the workspace\n",
    "%who"
   ]
  },
  {
   "cell_type": "code",
   "execution_count": 8,
   "id": "f4c3171a",
   "metadata": {},
   "outputs": [
    {
     "name": "stdout",
     "output_type": "stream",
     "text": [
      "Variable   Type      Data/Info\n",
      "------------------------------\n",
      "dog_age    int       5\n",
      "my_dog     str       golden retriever\n",
      "np         module    <module 'numpy' from '/Us<...>kages/numpy/__init__.py'>\n"
     ]
    }
   ],
   "source": [
    "# same, but more detailed\n",
    "%whos "
   ]
  },
  {
   "cell_type": "code",
   "execution_count": 9,
   "id": "a9d391fa",
   "metadata": {},
   "outputs": [
    {
     "data": {
      "text/plain": [
       "'/Users/kohler/code/git/teaching/NRSC-2200/python_fundamentals'"
      ]
     },
     "execution_count": 9,
     "metadata": {},
     "output_type": "execute_result"
    }
   ],
   "source": [
    "# return working directory (the folder I am currently in)\n",
    "%pwd"
   ]
  },
  {
   "cell_type": "code",
   "execution_count": 10,
   "id": "62453c85",
   "metadata": {},
   "outputs": [
    {
     "name": "stdout",
     "output_type": "stream",
     "text": [
      "fundamentals.ipynb\r\n"
     ]
    }
   ],
   "source": [
    "# list files in working directory\n",
    "%ls"
   ]
  },
  {
   "cell_type": "code",
   "execution_count": 11,
   "id": "aa4dc1f7",
   "metadata": {},
   "outputs": [
    {
     "name": "stdout",
     "output_type": "stream",
     "text": [
      "Once deleted, variables cannot be recovered. Proceed (y/[n])? n\n",
      "Nothing done.\n"
     ]
    }
   ],
   "source": [
    "# reset the workspace\n",
    "%reset"
   ]
  },
  {
   "cell_type": "markdown",
   "id": "f70096f5",
   "metadata": {},
   "source": [
    "## Variables\n",
    "\n",
    "Detailed and useful information about variable types [here](https://physics.nyu.edu/pine/pymanual/html/chap3/chap3_arrays.html)."
   ]
  },
  {
   "cell_type": "code",
   "execution_count": 12,
   "id": "e7b787d3",
   "metadata": {},
   "outputs": [
    {
     "name": "stdout",
     "output_type": "stream",
     "text": [
      "8.0\n",
      "5\n"
     ]
    }
   ],
   "source": [
    "# NUMBERS (float and integers)\n",
    "\n",
    "# Integers are numbers without decimal points.\n",
    "num_int = 8\n",
    "\n",
    "# Floats are numbers with decimal points.\n",
    "num_flo = 5.0\n",
    "\n",
    "# you can convert one to the other\n",
    "print(float(num_int))\n",
    "print(int(num_flo))"
   ]
  },
  {
   "cell_type": "code",
   "execution_count": 13,
   "id": "1a4c083d",
   "metadata": {},
   "outputs": [
    {
     "name": "stdout",
     "output_type": "stream",
     "text": [
      "My dog's name is Bingo\n",
      "My dog Bingo is a golden retriever, he is 5 years old\n",
      "My dog Bingo is a golden retriever, he is 5.00 years old\n"
     ]
    }
   ],
   "source": [
    "# STRINGS\n",
    "# Strings are lists of characters. Any character that you can type from a computer keyboard, \n",
    "# plus a variety of other characters, can be elements in a string.\n",
    "# Strings can be defined using both double and single quotes\n",
    "\n",
    "a = \"My dog's name is\"\n",
    "b = \"Bingo\"\n",
    "c = a + \" \" + b # you can add strings\n",
    "\n",
    "print(c)\n",
    "\n",
    "# use format to generate strings\n",
    "d = \"My dog {} is a {}, he is {} years old\".format(\"Bingo\", my_dog, 5)\n",
    "\n",
    "print(d)\n",
    "\n",
    "# use format to specify the formatting of numbers in a string\n",
    "e = \"My dog {} is a {}, he is {:.2f} years old\".format(\"Bingo\", my_dog, 5)\n",
    "\n",
    "print(e)"
   ]
  },
  {
   "cell_type": "code",
   "execution_count": 14,
   "id": "7b7aec44",
   "metadata": {},
   "outputs": [
    {
     "name": "stdout",
     "output_type": "stream",
     "text": [
      "['apple', 'banana', 'cherry', 'kiwi', 'mango', 'apple', 'banana', 'cherry', 'kiwi', 'mango']\n",
      "['apple', 'banana', 'cherry', 'kiwi', 'mango', 'apple', 'banana', 'cherry', 'kiwi', 'mango']\n"
     ]
    }
   ],
   "source": [
    "# LISTS\n",
    "# The elements of lists can be numbers or strings, or both. \n",
    "# Lists (we will discuss tuples later) are defined by a pair of square brackets on either end \n",
    "# with individual elements separated by commas. \n",
    "\n",
    "# can be numbers\n",
    "my_list = [1, 2, 3, 4]\n",
    "\n",
    "# or strings\n",
    "fruits = [\"apple\", \"banana\", \"cherry\", \"kiwi\", \"mango\"]\n",
    "\n",
    "# or combinations\n",
    "test = [203, \"dog\", np.pi]\n",
    "\n",
    "# you can multiply and add lists\n",
    "print(fruits*2)\n",
    "print(fruits + fruits)"
   ]
  },
  {
   "cell_type": "code",
   "execution_count": 15,
   "id": "f203130d",
   "metadata": {},
   "outputs": [
    {
     "name": "stdout",
     "output_type": "stream",
     "text": [
      "['apple', 'banana', 'mango']\n"
     ]
    }
   ],
   "source": [
    "# list comprehension (making a new list from an existing list - so powerful):\n",
    " \n",
    "fruits_with_a = [x for x in fruits if \"a\" in x]\n",
    "\n",
    "print(fruits_with_a) "
   ]
  },
  {
   "cell_type": "code",
   "execution_count": 16,
   "id": "b110bdbd",
   "metadata": {},
   "outputs": [
    {
     "name": "stdout",
     "output_type": "stream",
     "text": [
      "['V1-L', 'V2-R', 'V3-L', 'V1-R', 'V2-L', 'V3-R']\n"
     ]
    }
   ],
   "source": [
    "# use zip to combine lists\n",
    "\n",
    "hemi = [ \"L\", \"R\" ]\n",
    "brain_area = [\"V1\", \"V2\", \"V3\"]\n",
    "\n",
    "area_list = [x + \"-\" + y for x,y in zip(brain_area*2, hemi*3)]\n",
    "print(area_list)"
   ]
  },
  {
   "cell_type": "code",
   "execution_count": 19,
   "id": "ded9be96",
   "metadata": {},
   "outputs": [
    {
     "name": "stdout",
     "output_type": "stream",
     "text": [
      "['V1-L', 'V1-R', 'V2-L', 'V2-R', 'V3-L', 'V3-R']\n"
     ]
    }
   ],
   "source": [
    "# use sort to sort lists\n",
    "area_list.sort()\n",
    "print(area_list)\n",
    "\n",
    "# sort is a method, but unlike other methods and functions\n",
    "# sort does not return anything, so the output should not be assigned to a variable\n",
    "# instead, sort changes the content of the variable area_list"
   ]
  },
  {
   "cell_type": "code",
   "execution_count": 20,
   "id": "2a8592e9",
   "metadata": {},
   "outputs": [],
   "source": [
    "area_list.sort?"
   ]
  },
  {
   "cell_type": "code",
   "execution_count": null,
   "id": "7fa9eb3a",
   "metadata": {},
   "outputs": [],
   "source": [
    "# you can create lists using functions like range([start], stop, [step])\n",
    "\n",
    "num_list = [x for x in range(0, 10) ] # numbers from 0-9, step size 1 (default)\n",
    "num_list = [x for x in range(0, 10, 2) ] # numbers from 0-9, step size 2 = skip odd numbers\n",
    "\n",
    "print(num_list)"
   ]
  },
  {
   "cell_type": "code",
   "execution_count": 22,
   "id": "5b83934d",
   "metadata": {},
   "outputs": [
    {
     "name": "stdout",
     "output_type": "stream",
     "text": [
      "{'last name': 'Kohler', 'first name': 'Peter', 'birthday': 'October 13'}\n"
     ]
    }
   ],
   "source": [
    "# DICTIONARIES\n",
    "# Collection of Python objects, just like a list, but one that is indexed by strings or numbers \n",
    "\n",
    "d = {} # define empty dictionary\n",
    "\n",
    "d[\"last name\"] = \"Kohler\" # add key-value pairs\n",
    "\n",
    "d[\"first name\"] = \"Peter\"\n",
    "\n",
    "d[\"birthday\"] = \"October 13\"\n",
    "\n",
    "# print dictionary\n",
    "print(d)"
   ]
  },
  {
   "cell_type": "code",
   "execution_count": 23,
   "id": "1ddda69b",
   "metadata": {},
   "outputs": [
    {
     "name": "stdout",
     "output_type": "stream",
     "text": [
      "Kohler\n"
     ]
    }
   ],
   "source": [
    "print(d[\"last name\"]) # get value for a specific key"
   ]
  },
  {
   "cell_type": "code",
   "execution_count": 24,
   "id": "b70322d7",
   "metadata": {},
   "outputs": [
    {
     "name": "stdout",
     "output_type": "stream",
     "text": [
      "dict_values([500, 300, 200])\n",
      "dict_keys(['V1', 'V2', 'V3'])\n"
     ]
    }
   ],
   "source": [
    "# define set of keys / values\n",
    "\n",
    "area_sizes = {\"V1\": 500, \"V2\": 300, \"V3\": 200}\n",
    "\n",
    "print(area_sizes.values()) # get all values from a dictionary \n",
    "print(area_sizes.keys()) # get all keys from a dictionary "
   ]
  },
  {
   "cell_type": "code",
   "execution_count": 26,
   "id": "c5087096",
   "metadata": {},
   "outputs": [
    {
     "data": {
      "text/plain": [
       "(1, 4)"
      ]
     },
     "execution_count": 26,
     "metadata": {},
     "output_type": "execute_result"
    }
   ],
   "source": [
    "# NUMPY ARRAYS\n",
    "# The elements of a NumPy array, or simply an array, are usually numbers, \n",
    "# but can also be boolians, strings, or other objects. \n",
    "# When the elements are numbers, they must all be of the same type. \n",
    "# For example, they might be all integers or all floating point numbers.\n",
    "\n",
    "# here's a one-dimensional array\n",
    "my_array = np.array([[0,1,2,3]])\n",
    "\n",
    "# use shape to get the shape of the array\n",
    "my_array.shape \n",
    "# returns a tuple, similar to a list"
   ]
  },
  {
   "cell_type": "code",
   "execution_count": 27,
   "id": "cdd83145",
   "metadata": {},
   "outputs": [
    {
     "data": {
      "text/plain": [
       "1"
      ]
     },
     "execution_count": 27,
     "metadata": {},
     "output_type": "execute_result"
    }
   ],
   "source": [
    "# we can get specific dimensions by indexing the tuple\n",
    "my_array.shape[0]"
   ]
  },
  {
   "cell_type": "code",
   "execution_count": 28,
   "id": "9c4bc6ab",
   "metadata": {},
   "outputs": [
    {
     "name": "stdout",
     "output_type": "stream",
     "text": [
      "here's my array: \n",
      " [[0 0 0]\n",
      " [1 1 1]]\n",
      "here's a version filled with zeros:\n",
      " [[0 0 0]\n",
      " [0 0 0]]\n",
      "the shape of my array is 2 by 3\n"
     ]
    }
   ],
   "source": [
    "# now let's make a two-dimensional array, a matrix: \n",
    "\n",
    "my_array = np.array([[0, 0, 0], [1, 1, 1]])\n",
    "print( \"here's my array: \\n {}\".format(my_array) )\n",
    "\n",
    "# numpy has ton of functions for making arrays:\n",
    "zero_array = np.zeros_like(my_array) # make an array filled with zeros that has the same shape and type as test\n",
    "print( \"here's a version filled with zeros:\\n {}\".format(zero_array) )\n",
    "\n",
    "# again use shape function to get the spape of the array\n",
    "print(\"the shape of my array is {} by {}\".format( my_array.shape[0], my_array.shape[1] ) )"
   ]
  },
  {
   "cell_type": "code",
   "execution_count": 29,
   "id": "3300cd43",
   "metadata": {},
   "outputs": [
    {
     "name": "stdout",
     "output_type": "stream",
     "text": [
      "built-in function: [0 3], stand-alone function: [0 3]\n"
     ]
    }
   ],
   "source": [
    "# note that shape is a method of the numpy array\n",
    "# a method is a \"built-in\" function \n",
    "# a function that \"belongs to\" an object, like an np.array variable\n",
    "  \n",
    "# np arrays have other methods: mean, sum, count\n",
    "my_array.sum(1)\n",
    "\n",
    "# note that the corresponding function does the same thing\n",
    "np.sum(my_array, 1)\n",
    "print(\"built-in function: {}, stand-alone function: {}\".format( np.sum(my_array, 1), my_array.sum(1) ) )"
   ]
  },
  {
   "cell_type": "markdown",
   "id": "608a6fa3",
   "metadata": {},
   "source": [
    "While some functions are also methods, this is not true for all functions: \n",
    "A relevant example: \n",
    "    \n",
    "    np.nanmean() \n",
    "\n",
    "... which gives you the mean while excluding any NaNs in the array.  \n",
    "\n",
    "Finally, note that format, which we used above, is a method of strings in Python:\n",
    "    \n",
    "    \"{}, {}\".format(x, y ...) "
   ]
  },
  {
   "cell_type": "code",
   "execution_count": 30,
   "id": "f47bdec0",
   "metadata": {},
   "outputs": [
    {
     "name": "stdout",
     "output_type": "stream",
     "text": [
      "Variable        Type       Data/Info\n",
      "------------------------------------\n",
      "a               str        My dog's name is\n",
      "area_list       list       n=6\n",
      "area_sizes      dict       n=3\n",
      "b               str        Bingo\n",
      "brain_area      list       n=3\n",
      "c               str        My dog's name is Bingo\n",
      "d               dict       n=3\n",
      "dog_age         int        5\n",
      "e               str        My dog Bingo is a golden <...>ver, he is 5.00 years old\n",
      "fruits          list       n=5\n",
      "fruits_with_a   list       n=3\n",
      "hemi            list       n=2\n",
      "my_array        ndarray    2x3: 6 elems, type `int64`, 48 bytes\n",
      "my_dog          str        golden retriever\n",
      "my_list         list       n=4\n",
      "np              module     <module 'numpy' from '/Us<...>kages/numpy/__init__.py'>\n",
      "num_flo         float      5.0\n",
      "num_int         int        8\n",
      "test            list       n=3\n",
      "zero_array      ndarray    2x3: 6 elems, type `int64`, 48 bytes\n"
     ]
    }
   ],
   "source": [
    "# now that we've defined some variables, we can use whos to see what they are\n",
    "%whos"
   ]
  },
  {
   "cell_type": "code",
   "execution_count": 43,
   "id": "4d60514b",
   "metadata": {},
   "outputs": [
    {
     "data": {
      "text/plain": [
       "dict"
      ]
     },
     "execution_count": 43,
     "metadata": {},
     "output_type": "execute_result"
    }
   ],
   "source": [
    "# we can also inspect the variable type for a specific variable, using the \"type\" variable\n",
    "type(area_sizes)"
   ]
  },
  {
   "cell_type": "markdown",
   "id": "fabf6ac6",
   "metadata": {},
   "source": [
    "## Manipulating arrays and broadcasting\n",
    "Broadcasting is a powerful feature of Python that allows you to perform operations using arrays of different shapes"
   ]
  },
  {
   "cell_type": "code",
   "execution_count": 89,
   "id": "33d6c0bb",
   "metadata": {},
   "outputs": [
    {
     "name": "stdout",
     "output_type": "stream",
     "text": [
      "[[2 2 2]\n",
      " [4 4 4]]\n",
      "[[3 3 3]\n",
      " [5 5 5]]\n",
      "[[4 4 4]\n",
      " [8 8 8]]\n"
     ]
    }
   ],
   "source": [
    "base_array = np.array([[2,2,2],[4,4,4]])\n",
    "print(base_array)\n",
    "\n",
    "# we can manipulate arrays by adding, multiplying, dividing, by single numbers (scalars)\n",
    "\n",
    "print(base_array + 1)\n",
    "\n",
    "print(base_array * 2)"
   ]
  },
  {
   "cell_type": "code",
   "execution_count": 92,
   "id": "00a601f2",
   "metadata": {},
   "outputs": [
    {
     "name": "stdout",
     "output_type": "stream",
     "text": [
      "[[2 2 2]\n",
      " [5 5 5]]\n"
     ]
    }
   ],
   "source": [
    "# we can also perform operations using two arrays\n",
    "\n",
    "print(base_array + np.array([[0,0,0],[1,1,1]]))"
   ]
  },
  {
   "cell_type": "code",
   "execution_count": 97,
   "id": "6aba2d04",
   "metadata": {},
   "outputs": [
    {
     "name": "stdout",
     "output_type": "stream",
     "text": [
      "shape of base is (2, 3), shape of sub is (1, 3)\n"
     ]
    }
   ],
   "source": [
    "# let's try to add two arrays that have different shapes\n",
    "sub_array = np.array([[1,2,3]])\n",
    "\n",
    "print(\"shape of base is {}, shape of sub is {}\".format(base_array.shape, sub_array.shape))"
   ]
  },
  {
   "cell_type": "code",
   "execution_count": 99,
   "id": "60cdeebd",
   "metadata": {
    "scrolled": true
   },
   "outputs": [
    {
     "name": "stdout",
     "output_type": "stream",
     "text": [
      "[[ 1  0 -1]\n",
      " [ 3  2  1]]\n"
     ]
    }
   ],
   "source": [
    "# when arrays have different shapes, broadcasting extends the shape of the smaller array to fit the larger array\n",
    "# subject to certain constraints\n",
    "\n",
    "print(base_array - sub_array)"
   ]
  },
  {
   "cell_type": "markdown",
   "id": "646d21a7",
   "metadata": {},
   "source": [
    "Here,\n",
    "\n",
    "    [ [2, 2, 2], [4, 4, 4] ] - [ 1, 2, 3]\n",
    "    \n",
    "is evaluated as:\n",
    "\n",
    "    [ [2-1, 2-2, 2-3], [4-1, 4-2, 4-3] ] = [ [ 1  0 -1], [ 3  2  1] ]\n",
    "\n",
    "Note that operations with a scalar is just the simplest case of this:\n",
    "    \n",
    "    [1, 2, 3] * a\n",
    "    \n",
    "is evaluated as:\n",
    "\n",
    "    [1*a, 2*a, 3*a]"
   ]
  },
  {
   "cell_type": "markdown",
   "id": "d65b267e",
   "metadata": {},
   "source": [
    "## Selecting subsets from a list"
   ]
  },
  {
   "cell_type": "code",
   "execution_count": 48,
   "id": "3e193ad8",
   "metadata": {},
   "outputs": [
    {
     "name": "stdout",
     "output_type": "stream",
     "text": [
      "V1-L\n"
     ]
    }
   ],
   "source": [
    "# you can index lists to grab individual elements\n",
    "print(area_list[0]) # grab first element of area list\n",
    "\n",
    "# note that indexing in Python is zero-based, indices start at zero"
   ]
  },
  {
   "cell_type": "code",
   "execution_count": 49,
   "id": "6a908162",
   "metadata": {},
   "outputs": [
    {
     "name": "stdout",
     "output_type": "stream",
     "text": [
      "['V1-L', 'V1-R']\n"
     ]
    }
   ],
   "source": [
    "print(area_list[:2]) # grab first two elements of area list"
   ]
  },
  {
   "cell_type": "code",
   "execution_count": 50,
   "id": "a898bf8b",
   "metadata": {},
   "outputs": [
    {
     "name": "stdout",
     "output_type": "stream",
     "text": [
      "['V2-L', 'V2-R', 'V3-L', 'V3-R']\n"
     ]
    }
   ],
   "source": [
    "print(area_list[2:]) # grab all elements expect the first two"
   ]
  },
  {
   "cell_type": "code",
   "execution_count": 45,
   "id": "36112613",
   "metadata": {},
   "outputs": [
    {
     "name": "stdout",
     "output_type": "stream",
     "text": [
      "['V3-L', 'V3-R']\n"
     ]
    }
   ],
   "source": [
    "print(area_list[-2:]) # grab the last two elements (negative values mean starting from the back)"
   ]
  },
  {
   "cell_type": "code",
   "execution_count": 47,
   "id": "13bfad1c",
   "metadata": {},
   "outputs": [
    {
     "name": "stdout",
     "output_type": "stream",
     "text": [
      "['V3-L', 'V3-R']\n"
     ]
    }
   ],
   "source": [
    "V3_list = [x for x in area_list if \"V3\" in x ] # of course, you can also use list comprehension\n",
    "\n",
    "print(V3_list)"
   ]
  },
  {
   "cell_type": "markdown",
   "id": "df846cfa",
   "metadata": {},
   "source": [
    "## Selecting subsets from an array\n",
    "### Numerical Indexing"
   ]
  },
  {
   "cell_type": "code",
   "execution_count": 74,
   "id": "626e62f1",
   "metadata": {},
   "outputs": [
    {
     "data": {
      "text/plain": [
       "2"
      ]
     },
     "execution_count": 74,
     "metadata": {},
     "output_type": "execute_result"
    }
   ],
   "source": [
    "my_array = np.array([[1, 2, 3], [4, 5, 6]])\n",
    "\n",
    "my_array[0,1] # grab second element in first row\n",
    "              # note the square brackets"
   ]
  },
  {
   "cell_type": "code",
   "execution_count": 67,
   "id": "beb304fa",
   "metadata": {},
   "outputs": [
    {
     "data": {
      "text/plain": [
       "array([2, 5])"
      ]
     },
     "execution_count": 67,
     "metadata": {},
     "output_type": "execute_result"
    }
   ],
   "source": [
    "my_array[:,1] # grab entire first row"
   ]
  },
  {
   "cell_type": "markdown",
   "id": "cccfb6e8",
   "metadata": {},
   "source": [
    "### Logical Indexing"
   ]
  },
  {
   "cell_type": "code",
   "execution_count": 102,
   "id": "52649b26",
   "metadata": {},
   "outputs": [],
   "source": [
    "# let's define a matrix of random numbers \n",
    "test = np.random.randn(2,5) # returns an 2 x 5 array of random numbers selected pulled a normal distribution"
   ]
  },
  {
   "cell_type": "code",
   "execution_count": 73,
   "id": "a2321bef",
   "metadata": {},
   "outputs": [
    {
     "name": "stdout",
     "output_type": "stream",
     "text": [
      "[0.01904696 1.22586239 1.14557532]\n"
     ]
    }
   ],
   "source": [
    "non_zero_test = test[test > 0] # returns the non-zero values of test\n",
    "                               # note the square brackets\n",
    "\n",
    "print(non_zero_test)"
   ]
  },
  {
   "cell_type": "code",
   "execution_count": 70,
   "id": "14948405",
   "metadata": {},
   "outputs": [
    {
     "name": "stdout",
     "output_type": "stream",
     "text": [
      "here is the logical index: \n",
      " [[ True False False False False]\n",
      " [False  True False  True False]]\n"
     ]
    }
   ],
   "source": [
    "lgl_idx = test > 0 # this is a logical index (can be applied to any array that has the same shape)\n",
    "\n",
    "print(\"here is the logical index: \\n {}\".format(lgl_idx))"
   ]
  },
  {
   "cell_type": "code",
   "execution_count": 71,
   "id": "119593e0",
   "metadata": {},
   "outputs": [
    {
     "name": "stdout",
     "output_type": "stream",
     "text": [
      "here is the numerical index: \n",
      " (array([0, 1, 1]), array([0, 1, 3]))\n"
     ]
    }
   ],
   "source": [
    "# use built-in function non-zero to get the numerical indexes\n",
    "\n",
    "num_idx = lgl_idx.nonzero()\n",
    "print(\"here is the numerical index: \\n {}\".format(num_idx))"
   ]
  },
  {
   "cell_type": "code",
   "execution_count": 72,
   "id": "f8ec9e6a",
   "metadata": {},
   "outputs": [
    {
     "name": "stdout",
     "output_type": "stream",
     "text": [
      "[0.01904696 1.22586239 1.14557532]\n"
     ]
    }
   ],
   "source": [
    "# now we can use the numerical index to grab the non-zero values\n",
    "print(test[num_idx])"
   ]
  },
  {
   "cell_type": "code",
   "execution_count": 82,
   "id": "034ddc1c",
   "metadata": {},
   "outputs": [
    {
     "name": "stdout",
     "output_type": "stream",
     "text": [
      "[ 1.22586239 -1.47862988  1.14557532]\n"
     ]
    }
   ],
   "source": [
    "# now we want to identify the absolute values bigger than 1\n",
    "\n",
    "big_num_test = test[np.abs(test) > 1]\n",
    "\n",
    "print(big_num_test)"
   ]
  },
  {
   "cell_type": "code",
   "execution_count": 175,
   "id": "460c3907",
   "metadata": {},
   "outputs": [
    {
     "name": "stdout",
     "output_type": "stream",
     "text": [
      "np.max: 1.78, index method: 1.78\n"
     ]
    }
   ],
   "source": [
    "# what if want to identify the index associated with some value \n",
    "# e.g. minimum and maximum of an array? \n",
    "\n",
    "# np.min and np.max returns the minimum and maximum values\n",
    "max_val = np.max(test)\n",
    "min_val = np.min(test)\n",
    "\n",
    "# create a logical index identifying positions in test where the value is equal to the max\n",
    "# in our case, there will only be one such position\n",
    "max_lgl_idx = test==max_val\n",
    "\n",
    "# we can again use nonzero to convert to numerical index\n",
    "\n",
    "max_num_idx = max_lgl_idx.nonzero()\n",
    "\n",
    "# they can then be used to index into the same variable or other variables\n",
    "\n",
    "print( \"np.max: {:.2f}, index method: {:.2f}\".format(max_val, test[max_num_idx].item()) )"
   ]
  },
  {
   "cell_type": "markdown",
   "id": "2e7ea00d",
   "metadata": {},
   "source": [
    "## How to get help?\n",
    "Adding \"?\" in front of a function or variable will give you information about it. "
   ]
  },
  {
   "cell_type": "code",
   "execution_count": 33,
   "id": "78c07e01",
   "metadata": {},
   "outputs": [],
   "source": [
    "# can be applied to functions\n",
    "np.nanmean?"
   ]
  },
  {
   "cell_type": "code",
   "execution_count": 38,
   "id": "5ac531e7",
   "metadata": {},
   "outputs": [],
   "source": [
    "# methods\n",
    "area_list.sort?"
   ]
  },
  {
   "cell_type": "code",
   "execution_count": 39,
   "id": "e181a943",
   "metadata": {},
   "outputs": [],
   "source": [
    "# modules\n",
    "np?"
   ]
  },
  {
   "cell_type": "code",
   "execution_count": 40,
   "id": "929dd873",
   "metadata": {},
   "outputs": [],
   "source": [
    "# and even variables\n",
    "area_sizes?"
   ]
  }
 ],
 "metadata": {
  "kernelspec": {
   "display_name": "Python 3 (ipykernel)",
   "language": "python",
   "name": "python3"
  },
  "language_info": {
   "codemirror_mode": {
    "name": "ipython",
    "version": 3
   },
   "file_extension": ".py",
   "mimetype": "text/x-python",
   "name": "python",
   "nbconvert_exporter": "python",
   "pygments_lexer": "ipython3",
   "version": "3.7.4"
  }
 },
 "nbformat": 4,
 "nbformat_minor": 5
}
