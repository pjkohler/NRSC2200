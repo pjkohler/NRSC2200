{
 "cells": [
  {
   "cell_type": "markdown",
   "id": "f1ae7649",
   "metadata": {},
   "source": [
    "# Fundamentals of Python"
   ]
  },
  {
   "cell_type": "markdown",
   "id": "1d67b491",
   "metadata": {},
   "source": [
    "## Working with the Jupyter Notebook\n",
    "\n",
    "1. There are two basic types of cells, Code and Markdown. \n",
    "\n",
    "\n",
    "2. Markdown cells contains meta-text that explains what is going on in the code cells. For our purposes, the code cells contain Python code only. \n",
    "\n",
    "\n",
    "3. Some shortcuts (more can be found in the menu above):\n",
    "    * \"shift + enter\": run the currently selected cell\n",
    "    * \"A\" / \"B\": insert a new cell above or below the current cell\n",
    "    \n",
    "\n",
    "4. Within a code cell \"#\" is used for comments (this is true for Python code everywhere)\n",
    "\n",
    "\n",
    "5. Code cells will need to be run in order to take effect and change the workspace. \n",
    "\n",
    "**Compared to other languages I have used, Python always seems to have 1000 ways of doing the same thing. Do not let that freak you out.**"
   ]
  },
  {
   "cell_type": "markdown",
   "id": "7bc273b0",
   "metadata": {},
   "source": [
    "This code was inspired by Mark Kramer's [Python for the Practicing Neuroscientist](https://hub.gke2.mybinder.org/user/mark-kramer-case-studies-python-qflt1uo9/notebooks/01.ipynb) which provides additional details that were not included here. I recommended checking that out. "
   ]
  },
  {
   "cell_type": "markdown",
   "id": "f931fa0b",
   "metadata": {},
   "source": [
    "## Importing modules"
   ]
  },
  {
   "cell_type": "code",
   "execution_count": null,
   "id": "18deea36",
   "metadata": {},
   "outputs": [],
   "source": [
    "import numpy as np"
   ]
  },
  {
   "cell_type": "markdown",
   "id": "48b38ecc",
   "metadata": {},
   "source": [
    "## The workspace"
   ]
  },
  {
   "cell_type": "code",
   "execution_count": null,
   "id": "3ed52c28",
   "metadata": {},
   "outputs": [],
   "source": [
    "# let's define a few variables\n",
    "my_dog = \"golden retriever\"\n",
    "dog_age = 5"
   ]
  },
  {
   "cell_type": "code",
   "execution_count": null,
   "id": "d18a61ec",
   "metadata": {},
   "outputs": [],
   "source": [
    "# list variables in the workspace\n",
    "%who"
   ]
  },
  {
   "cell_type": "code",
   "execution_count": null,
   "id": "f4c3171a",
   "metadata": {},
   "outputs": [],
   "source": [
    "# same, but more detailed\n",
    "%whos "
   ]
  },
  {
   "cell_type": "code",
   "execution_count": null,
   "id": "a9d391fa",
   "metadata": {},
   "outputs": [],
   "source": [
    "# return working directory (the folder I am currently in)\n",
    "%pwd"
   ]
  },
  {
   "cell_type": "code",
   "execution_count": null,
   "id": "62453c85",
   "metadata": {},
   "outputs": [],
   "source": [
    "# list files in working directory\n",
    "%ls"
   ]
  },
  {
   "cell_type": "code",
   "execution_count": null,
   "id": "aa4dc1f7",
   "metadata": {},
   "outputs": [],
   "source": [
    "# reset the workspace\n",
    "%reset"
   ]
  },
  {
   "cell_type": "markdown",
   "id": "f70096f5",
   "metadata": {},
   "source": [
    "## Variables\n",
    "\n",
    "Detailed and useful information about variable types [here](https://physics.nyu.edu/pine/pymanual/html/chap3/chap3_arrays.html)."
   ]
  },
  {
   "cell_type": "code",
   "execution_count": null,
   "id": "e7b787d3",
   "metadata": {
    "scrolled": true
   },
   "outputs": [],
   "source": [
    "# NUMBERS (floats and integers)\n",
    "\n",
    "# Integers are numbers without decimal points.\n",
    "num_int = 8\n",
    "\n",
    "# Floats are numbers with decimal points.\n",
    "num_flo = 5.0\n",
    "\n",
    "# you can convert one to the other\n",
    "print(float(num_int))\n",
    "print(int(num_flo))"
   ]
  },
  {
   "cell_type": "code",
   "execution_count": null,
   "id": "14137806",
   "metadata": {},
   "outputs": [],
   "source": [
    "# STRINGS\n",
    "# Strings are lists of characters. Any character that you can type from a computer keyboard, \n",
    "# plus a variety of other characters, can be elements in a string.\n",
    "# Strings can be defined using both double and single quotes\n",
    "\n",
    "a = \"My dog's name is\"\n",
    "b = \"Bingo\"\n",
    "c = a + \" \" + b # you can add strings\n",
    "\n",
    "print(c)"
   ]
  },
  {
   "cell_type": "code",
   "execution_count": null,
   "id": "392d0377",
   "metadata": {},
   "outputs": [],
   "source": [
    "# use format to generate strings\n",
    "d = \"My dog {} is a {}, he is {} years old\".format(\"Bingo\", my_dog, dog_age)\n",
    "\n",
    "print(d)"
   ]
  },
  {
   "cell_type": "code",
   "execution_count": null,
   "id": "1a4c083d",
   "metadata": {},
   "outputs": [],
   "source": [
    "# use format to specify the formatting of numbers in a string\n",
    "e = \"My dog {} is a {}, he is {:.2f} years old\".format(b, my_dog, dog_age)\n",
    "\n",
    "print(e)"
   ]
  },
  {
   "cell_type": "markdown",
   "id": "10582c8e",
   "metadata": {},
   "source": [
    "## LISTS\n",
    "The elements of lists can be numbers or strings, or both. Lists are defined by a pair of square brackets on either end with individual elements separated by commas."
   ]
  },
  {
   "cell_type": "code",
   "execution_count": null,
   "id": "eef211eb",
   "metadata": {},
   "outputs": [],
   "source": [
    "# can be numbers\n",
    "my_list = [1, 2, 3, 4]\n",
    "\n",
    "# or strings\n",
    "fruits = [\"apple\", \"banana\", \"cherry\", \"kiwi\", \"mango\"]\n",
    "\n",
    "# or combinations\n",
    "test = [203, \"dog\", np.pi]\n",
    "print(test)"
   ]
  },
  {
   "cell_type": "code",
   "execution_count": null,
   "id": "7b7aec44",
   "metadata": {},
   "outputs": [],
   "source": [
    "# you can multiply and add lists\n",
    "print(fruits*2)\n",
    "print(fruits + test)"
   ]
  },
  {
   "cell_type": "code",
   "execution_count": null,
   "id": "f203130d",
   "metadata": {},
   "outputs": [],
   "source": [
    "# list comprehension (making a new list from an existing list - so powerful):\n",
    " \n",
    "fruits_with_a = [x for x in fruits if \"a\" in x]\n",
    "\n",
    "print(fruits_with_a) "
   ]
  },
  {
   "cell_type": "code",
   "execution_count": null,
   "id": "b110bdbd",
   "metadata": {},
   "outputs": [],
   "source": [
    "# use zip to combine lists\n",
    "\n",
    "hemi = [ \"L\", \"R\" ]\n",
    "brain_area = [\"V1\", \"V2\", \"V3\"]\n",
    "\n",
    "area_list = [x + \"-\" + y for x, y in zip(brain_area*2, hemi*3)]\n",
    "print(area_list)"
   ]
  },
  {
   "cell_type": "code",
   "execution_count": null,
   "id": "2d4e1d06",
   "metadata": {},
   "outputs": [],
   "source": [
    "# list comprehension is like a for loop expressed on a single line\n",
    "# note what happens when we make the for loop explicit: \n",
    "i = 0\n",
    "for x, y in zip(brain_area*2, hemi*3):\n",
    "    print(\"iteration num: \" + str(i))\n",
    "    print(x + \"-\" + y)\n",
    "    i=i+1"
   ]
  },
  {
   "cell_type": "code",
   "execution_count": null,
   "id": "ca9362ed",
   "metadata": {},
   "outputs": [],
   "source": [
    "# use append to add an element to a list\n",
    "test.append(\"cat\")\n",
    "print(test)"
   ]
  },
  {
   "cell_type": "code",
   "execution_count": null,
   "id": "ded9be96",
   "metadata": {},
   "outputs": [],
   "source": [
    "# use sort to sort lists\n",
    "area_list.sort()\n",
    "print(area_list)"
   ]
  },
  {
   "cell_type": "markdown",
   "id": "17a7e80f",
   "metadata": {},
   "source": [
    "Sort and append are both methods (see below), but unlike other methods and functions, they do return anything, so the output should not be assigned to a variable. Instead, sort and append change the content of the variable they are invoked from. "
   ]
  },
  {
   "cell_type": "code",
   "execution_count": null,
   "id": "7fa9eb3a",
   "metadata": {},
   "outputs": [],
   "source": [
    "# you can create lists using functions like range([start], stop, [step])\n",
    "\n",
    "num_list = [x for x in range(0, 10) ] # numbers from 0-9, step size 1 (default)\n",
    "num_list = [x for x in range(20, 30, 2) ] # numbers from 0-9, step size 2 = skip odd numbers\n",
    "\n",
    "print(num_list)"
   ]
  },
  {
   "cell_type": "markdown",
   "id": "32871032",
   "metadata": {},
   "source": [
    "## Numpy Arrays\n",
    "The elements of a NumPy array, or simply an array, are usually numbers, but can also be boolians, strings, or other objects. When the elements are numbers, they must all be of the same type. For example, they might be all integers or all floating point numbers."
   ]
  },
  {
   "cell_type": "code",
   "execution_count": null,
   "id": "c5087096",
   "metadata": {},
   "outputs": [],
   "source": [
    "# here's a one-dimensional array\n",
    "array_1d = np.array([ [ 0,1,2,3 ] ])\n",
    "\n",
    "# use shape to get the shape of the array\n",
    "array_1d.shape[0] \n",
    "# returns a tuple, similar to a list"
   ]
  },
  {
   "cell_type": "code",
   "execution_count": null,
   "id": "cdd83145",
   "metadata": {},
   "outputs": [],
   "source": [
    "# we can get specific dimensions by indexing the tuple\n",
    "array_1d.shape[1]"
   ]
  },
  {
   "cell_type": "code",
   "execution_count": null,
   "id": "ab71d2e0",
   "metadata": {},
   "outputs": [],
   "source": [
    "# now let's make a two-dimensional array, a matrix: \n",
    "\n",
    "array_2d = np.array( [ [0, 0, 0], [1, 1, 1] ] )\n",
    "print( \"here's my array: \\n {}\".format(array_2d) )\n",
    "\n",
    "array_2d.shape"
   ]
  },
  {
   "cell_type": "code",
   "execution_count": null,
   "id": "b76165a9",
   "metadata": {},
   "outputs": [],
   "source": [
    "# make an array of ones or zeros\n",
    "ones_array = np.ones((10,1000))\n",
    "print(ones_array)\n",
    "\n",
    "# make an array of sevens\n",
    "print(ones_array*7)"
   ]
  },
  {
   "cell_type": "code",
   "execution_count": null,
   "id": "9c4bc6ab",
   "metadata": {},
   "outputs": [],
   "source": [
    "# numpy has ton of functions for making arrays:\n",
    "zeros_array = np.zeros_like(array_2d) # make an array filled with zeros that has the same shape and type as the input\n",
    "print( \"here's a version filled with zeros:\\n {}\".format(zeros_array) )\n",
    "\n",
    "# again use shape function to get the spape of the array\n",
    "print(\"the shape of my array is {} by {}\".format( my_array.shape[0], my_array.shape[1] ) )"
   ]
  },
  {
   "cell_type": "code",
   "execution_count": null,
   "id": "3300cd43",
   "metadata": {},
   "outputs": [],
   "source": [
    "# note that shape is a method of the numpy array\n",
    "# a method is a \"built-in\" function \n",
    "# a function that \"belongs to\" an object, like an np.array variable\n",
    "  \n",
    "# np arrays have other methods: mean, sum, count\n",
    "array_2d.sum(1)\n",
    "\n",
    "# note that the corresponding function does the same thing\n",
    "np.sum(array_2d, 1)\n",
    "print(\"built-in function: {}, stand-alone function: {}\".format( np.sum(array_2d, 1), array_2d.sum(1) ) )"
   ]
  },
  {
   "cell_type": "markdown",
   "id": "608a6fa3",
   "metadata": {},
   "source": [
    "While some functions are also methods, this is not true for all functions: \n",
    "A relevant example: \n",
    "    \n",
    "    np.nanmean() \n",
    "\n",
    "... which gives you the mean while excluding any NaNs in the array.  \n",
    "\n",
    "Finally, note that format, which we used above, is a method of strings in Python:\n",
    "    \n",
    "    \"{}, {}\".format(x, y ...) "
   ]
  },
  {
   "cell_type": "code",
   "execution_count": null,
   "id": "f47bdec0",
   "metadata": {},
   "outputs": [],
   "source": [
    "# now that we've defined some variables, we can use whos to see what they are\n",
    "%whos"
   ]
  },
  {
   "cell_type": "code",
   "execution_count": null,
   "id": "4d60514b",
   "metadata": {},
   "outputs": [],
   "source": [
    "# we can also inspect the variable type for a specific variable, using the \"type\" variable\n",
    "type(area_sizes)"
   ]
  },
  {
   "cell_type": "markdown",
   "id": "fabf6ac6",
   "metadata": {},
   "source": [
    "## Manipulating arrays and broadcasting\n",
    "Broadcasting is a powerful feature of Python that allows you to perform operations using arrays of different shapes"
   ]
  },
  {
   "cell_type": "code",
   "execution_count": null,
   "id": "33d6c0bb",
   "metadata": {},
   "outputs": [],
   "source": [
    "base_array = np.array([[2,2,2],[4,4,4]])\n",
    "print(base_array)\n",
    "\n",
    "# we can manipulate arrays by adding, multiplying, dividing, by single numbers (scalars)\n",
    "\n",
    "print(base_array + 1)\n",
    "\n",
    "print(base_array * 2)"
   ]
  },
  {
   "cell_type": "code",
   "execution_count": null,
   "id": "00a601f2",
   "metadata": {},
   "outputs": [],
   "source": [
    "# we can also perform operations using two arrays\n",
    "\n",
    "print(base_array + np.array([[0,0,0],[1,1,1]]))"
   ]
  },
  {
   "cell_type": "code",
   "execution_count": null,
   "id": "6aba2d04",
   "metadata": {},
   "outputs": [],
   "source": [
    "# let's try to add two arrays that have different shapes\n",
    "sub_array = np.array([[1,2,3]])\n",
    "\n",
    "print(\"shape of base is {}, shape of sub is {}\".format(base_array.shape, sub_array.shape))"
   ]
  },
  {
   "cell_type": "code",
   "execution_count": null,
   "id": "60cdeebd",
   "metadata": {
    "scrolled": true
   },
   "outputs": [],
   "source": [
    "# when arrays have different shapes, broadcasting extends the shape of the smaller array to fit the larger array\n",
    "# subject to certain constraints\n",
    "\n",
    "print(base_array - sub_array)"
   ]
  },
  {
   "cell_type": "code",
   "execution_count": null,
   "id": "29c52b26",
   "metadata": {},
   "outputs": [],
   "source": [
    "base_array - sub_array"
   ]
  },
  {
   "cell_type": "markdown",
   "id": "646d21a7",
   "metadata": {},
   "source": [
    "Here,\n",
    "\n",
    "    [ [2, 2, 2], [4, 4, 4] ] - [ 1, 2, 3]\n",
    "    \n",
    "is evaluated as:\n",
    "\n",
    "    [ [2-1, 2-2, 2-3], [4-1, 4-2, 4-3] ] = [ [ 1  0 -1], [ 3  2  1] ]\n",
    "\n",
    "Note that operations with a scalar is just the simplest case of this:\n",
    "    \n",
    "    [1, 2, 3] * a\n",
    "    \n",
    "is evaluated as:\n",
    "\n",
    "    [1*a, 2*a, 3*a]"
   ]
  },
  {
   "cell_type": "markdown",
   "id": "d65b267e",
   "metadata": {},
   "source": [
    "## Selecting subsets from a list"
   ]
  },
  {
   "cell_type": "code",
   "execution_count": null,
   "id": "3e193ad8",
   "metadata": {},
   "outputs": [],
   "source": [
    "# you can index lists to grab individual elements\n",
    "print(area_list[0]) # grab first element of area list\n",
    "\n",
    "# note that indexing in Python is zero-based, indices start at zero"
   ]
  },
  {
   "cell_type": "code",
   "execution_count": null,
   "id": "6a908162",
   "metadata": {},
   "outputs": [],
   "source": [
    "print(area_list[:2]) # grab first two elements of area list"
   ]
  },
  {
   "cell_type": "code",
   "execution_count": null,
   "id": "a898bf8b",
   "metadata": {},
   "outputs": [],
   "source": [
    "print(area_list[2:]) # grab all elements expect the first two"
   ]
  },
  {
   "cell_type": "code",
   "execution_count": null,
   "id": "36112613",
   "metadata": {},
   "outputs": [],
   "source": [
    "print(area_list[-2:]) # grab the last two elements (negative values mean starting from the back)"
   ]
  },
  {
   "cell_type": "code",
   "execution_count": null,
   "id": "13bfad1c",
   "metadata": {},
   "outputs": [],
   "source": [
    "V3_list = [x for x in area_list if \"V3\" in x ] # of course, you can also use list comprehension\n",
    "\n",
    "print(V3_list)"
   ]
  },
  {
   "cell_type": "markdown",
   "id": "df846cfa",
   "metadata": {},
   "source": [
    "## Selecting subsets from a numpy array\n",
    "### Numerical Indexing"
   ]
  },
  {
   "cell_type": "code",
   "execution_count": null,
   "id": "626e62f1",
   "metadata": {},
   "outputs": [],
   "source": [
    "my_array = np.array([[1, 2, 3], [4, 5, 6]])\n",
    "\n",
    "my_array[0,1] # grab second element in first row\n",
    "              # note the square brackets"
   ]
  },
  {
   "cell_type": "code",
   "execution_count": null,
   "id": "beb304fa",
   "metadata": {},
   "outputs": [],
   "source": [
    "my_array[:,1] # grab entire second column\n",
    "\n",
    "my_array[0,:] # grab entire first row"
   ]
  },
  {
   "cell_type": "markdown",
   "id": "cccfb6e8",
   "metadata": {},
   "source": [
    "### Logical Indexing"
   ]
  },
  {
   "cell_type": "code",
   "execution_count": null,
   "id": "52649b26",
   "metadata": {},
   "outputs": [],
   "source": [
    "# let's define a matrix of random numbers \n",
    "test = np.random.randn(2,5) # returns an 2 x 5 array of random numbers pulled a normal distribution"
   ]
  },
  {
   "cell_type": "code",
   "execution_count": null,
   "id": "a2321bef",
   "metadata": {},
   "outputs": [],
   "source": [
    "bigger_zero_test = test[test > 0] # returns the values of test bigger than zero\n",
    "                               # note the square brackets\n",
    "\n",
    "print(bigger_zero_test)"
   ]
  },
  {
   "cell_type": "code",
   "execution_count": null,
   "id": "14948405",
   "metadata": {},
   "outputs": [],
   "source": [
    "lgl_idx = test > 0 # this is a logical index (can be applied to any array that has the same shape)\n",
    "\n",
    "print(\"here is the logical index: \\n {}\".format(lgl_idx))"
   ]
  },
  {
   "cell_type": "code",
   "execution_count": null,
   "id": "119593e0",
   "metadata": {},
   "outputs": [],
   "source": [
    "# use built-in function non-zero to get the numerical indices\n",
    "\n",
    "num_idx = lgl_idx.nonzero()\n",
    "print(\"here is the numerical index: \\n {}\".format(num_idx))"
   ]
  },
  {
   "cell_type": "code",
   "execution_count": null,
   "id": "f8ec9e6a",
   "metadata": {},
   "outputs": [],
   "source": [
    "# now we can use the numerical index to grab the non-zero values\n",
    "print(test[num_idx])"
   ]
  },
  {
   "cell_type": "code",
   "execution_count": null,
   "id": "034ddc1c",
   "metadata": {},
   "outputs": [],
   "source": [
    "# now we want to identify the absolute values bigger than 1\n",
    "\n",
    "big_num_test = test[np.abs(test) > 1]\n",
    "\n",
    "print(big_num_test)"
   ]
  },
  {
   "cell_type": "code",
   "execution_count": null,
   "id": "460c3907",
   "metadata": {},
   "outputs": [],
   "source": [
    "# what if want to identify the index associated with some value \n",
    "# e.g. minimum and maximum of an array? \n",
    "\n",
    "# np.min and np.max returns the minimum and maximum values\n",
    "max_val = np.max(test)\n",
    "min_val = np.min(test)\n",
    "\n",
    "# create a logical index identifying positions in test where the value is equal to the max\n",
    "# in our case, there will only be one such position\n",
    "max_lgl_idx = test==max_val\n",
    "\n",
    "# we can again use nonzero to convert to numerical index\n",
    "\n",
    "max_num_idx = max_lgl_idx.nonzero()\n",
    "\n",
    "# they can then be used to index into the same variable or other variables\n",
    "\n",
    "print( \"np.max: {:.2f}, index method: {:.2f}\".format(max_val, test[max_num_idx].item()) )"
   ]
  },
  {
   "cell_type": "markdown",
   "id": "fd107ef9",
   "metadata": {},
   "source": [
    "## Dictionaries\n",
    "Collection of Python objects, just like a list, but one in which data is stored as key:value pairs. Dictionaries are ordered in the sense that data are stored in dictionaries in a defined order (in Python > 3.7), but data cannot be indexed according to their order. Dictonaries are pretty useful for storing sets of related information."
   ]
  },
  {
   "cell_type": "code",
   "execution_count": null,
   "id": "2514365d",
   "metadata": {},
   "outputs": [],
   "source": [
    "participant_info = {} # define empty dictionary\n",
    "\n",
    "participant_info[\"last name\"] = \"Kohler\" # add key-value pairs, one at a time\n",
    "\n",
    "participant_info[\"first name\"] = \"Peter\"\n",
    "\n",
    "participant_info[\"age\"] = \"39\"\n",
    "\n",
    "# print dictionary\n",
    "print(participant_info)"
   ]
  },
  {
   "cell_type": "code",
   "execution_count": null,
   "id": "e7c53afb",
   "metadata": {},
   "outputs": [],
   "source": [
    "print(participant_info[\"last name\"]) # get value for a specific key"
   ]
  },
  {
   "cell_type": "code",
   "execution_count": null,
   "id": "5b83934d",
   "metadata": {},
   "outputs": [],
   "source": [
    "# define set of keys / values\n",
    "area_sizes = {\"V1\": 500, \"V2\": 300, \"V3\": 200}\n",
    "\n",
    "print(area_sizes.values()) # get all values from a dictionary \n",
    "print(area_sizes.keys()) # get all keys from a dictionary "
   ]
  },
  {
   "cell_type": "markdown",
   "id": "2e7ea00d",
   "metadata": {},
   "source": [
    "## How to get help?\n",
    "Adding \"?\" in front of a function or variable will give you information about it. "
   ]
  },
  {
   "cell_type": "code",
   "execution_count": null,
   "id": "78c07e01",
   "metadata": {},
   "outputs": [],
   "source": [
    "# can be applied to functions\n",
    "np.nanmean?"
   ]
  },
  {
   "cell_type": "code",
   "execution_count": null,
   "id": "5ac531e7",
   "metadata": {},
   "outputs": [],
   "source": [
    "# methods\n",
    "area_list.sort?"
   ]
  },
  {
   "cell_type": "code",
   "execution_count": null,
   "id": "e181a943",
   "metadata": {},
   "outputs": [],
   "source": [
    "# modules\n",
    "np?"
   ]
  },
  {
   "cell_type": "code",
   "execution_count": null,
   "id": "929dd873",
   "metadata": {},
   "outputs": [],
   "source": [
    "# and even variables\n",
    "area_sizes?"
   ]
  }
 ],
 "metadata": {
  "kernelspec": {
   "display_name": "Python 3 (ipykernel)",
   "language": "python",
   "name": "python3"
  },
  "language_info": {
   "codemirror_mode": {
    "name": "ipython",
    "version": 3
   },
   "file_extension": ".py",
   "mimetype": "text/x-python",
   "name": "python",
   "nbconvert_exporter": "python",
   "pygments_lexer": "ipython3",
   "version": "3.7.11"
  }
 },
 "nbformat": 4,
 "nbformat_minor": 5
}
