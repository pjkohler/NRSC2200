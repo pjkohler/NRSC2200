{
 "cells": [
  {
   "cell_type": "markdown",
   "id": "f1ae7649",
   "metadata": {},
   "source": [
    "# Fundamentals of Python"
   ]
  },
  {
   "cell_type": "markdown",
   "id": "1d67b491",
   "metadata": {},
   "source": [
    "## Working with the Jupyter Notebook\n",
    "\n",
    "This is a Jupyter notebook - a way of running Python code in a web browser, combined with rich text elements. This notebook is hosted on github using binder, which makes it possible to edit *and run* the code in the browser without having to install Python on your local computer.   \n",
    "\n",
    "1. There are two basic types of cells, Code and Markdown. \n",
    "\n",
    "\n",
    "2. Markdown cells contains meta-text that explains what is going on in the code cells. For our purposes, the code cells contain Python code only. \n",
    "\n",
    "\n",
    "3. Some shortcuts (more can be found in the menu above):\n",
    "    * \"shift + enter\": run the currently selected cell\n",
    "    * \"A\" / \"B\": insert a new cell above or below the current cell\n",
    "    \n",
    "\n",
    "4. Within a code cell \"#\" is used for comments (this is true for Python code everywhere - in other languages, other symbols are used to indicate comments). Programmers use comments to help make their code easier to read and understand by others, or by themselves, later on. \n",
    "\n",
    "\n",
    "5. Code cells will need to be run in order to take effect. You should run each of the code cells below as you are going through the code.  "
   ]
  },
  {
   "cell_type": "markdown",
   "id": "7bc273b0",
   "metadata": {},
   "source": [
    "## Other tutorials\n",
    "\n",
    "This tutorial notebook was heavily inspired by the excellent [Python tutorial](https://pythontutorials.eu/basic/introduction/) by Sebastiaan Mathôt and by the first chapter of Mark Kramer's [Python for the Practicing Neuroscientist](https://mark-kramer.github.io/Case-Studies-Python/intro.html), with some examples heavily inspired by them. This is my attempt to assemble the most important parts of both tutorials into a single notebook (with some additional stuff). Both tutorials are highly useful as a whole, and provide many more details that were not included here. I recommended checking them out. "
   ]
  },
  {
   "cell_type": "markdown",
   "id": "48b38ecc",
   "metadata": {},
   "source": [
    "## The workspace\n",
    "\n",
    "Here we are going to highlight a few ways of get information about the variables in the workspace. \n",
    "\n",
    "The commands below that start with '%' are so called magic commands, that are specific to Jupyter Notebook (more info [here](https://ipython.readthedocs.io/en/stable/interactive/magics.html)). \n",
    "\n",
    "You can use those commands anywhere in a Jupyter Notebook.  "
   ]
  },
  {
   "cell_type": "code",
   "execution_count": null,
   "id": "3ed52c28",
   "metadata": {},
   "outputs": [],
   "source": [
    "# let's define a few variables\n",
    "my_dog = \"golden retriever\"\n",
    "dog_age = 5"
   ]
  },
  {
   "cell_type": "code",
   "execution_count": null,
   "id": "d18a61ec",
   "metadata": {},
   "outputs": [],
   "source": [
    "# list variables in the workspace\n",
    "%who"
   ]
  },
  {
   "cell_type": "code",
   "execution_count": null,
   "id": "f4c3171a",
   "metadata": {},
   "outputs": [],
   "source": [
    "# same, but more detailed (also provides variable types - see below)\n",
    "%whos "
   ]
  },
  {
   "cell_type": "code",
   "execution_count": null,
   "id": "a9d391fa",
   "metadata": {},
   "outputs": [],
   "source": [
    "# return working directory (the folder I am currently in)\n",
    "%pwd"
   ]
  },
  {
   "cell_type": "code",
   "execution_count": null,
   "id": "62453c85",
   "metadata": {},
   "outputs": [],
   "source": [
    "# list files in working directory\n",
    "%ls"
   ]
  },
  {
   "cell_type": "code",
   "execution_count": null,
   "id": "aa4dc1f7",
   "metadata": {},
   "outputs": [],
   "source": [
    "# reset the workspace\n",
    "%reset"
   ]
  },
  {
   "cell_type": "markdown",
   "id": "f931fa0b",
   "metadata": {},
   "source": [
    "## Importing modules\n",
    "You can import modules to get additional functionality beyond the functions that are built into Python. \n",
    "\n",
    "Many common modules are included in Python by default so that you don't need to install them. \n",
    "\n",
    "Other modules, like numpy, need to be installed. More info [here](https://pythontutorials.eu/basic/modules/).\n",
    "\n",
    "It is not your responsibility to install modules for this course, and all of the assignments will already include import of any required modules. "
   ]
  },
  {
   "cell_type": "code",
   "execution_count": null,
   "id": "18deea36",
   "metadata": {},
   "outputs": [],
   "source": [
    "import numpy as np\n",
    "import matplotlib.pyplot as plt # for plotting"
   ]
  },
  {
   "cell_type": "markdown",
   "id": "04fbe8a0",
   "metadata": {},
   "source": [
    "## Comments and editing a code cell"
   ]
  },
  {
   "cell_type": "code",
   "execution_count": null,
   "id": "eef8b585",
   "metadata": {},
   "outputs": [],
   "source": [
    "# this is a comment (note the '#' at the beginning of the line)\n",
    "# you can edit any code cell, and evaluate it to see the result of the code\n",
    "# try doing it now: change the text being printed\n",
    "txt_out = \"computational neuroscience rocks!\"\n",
    "print(txt_out)"
   ]
  },
  {
   "cell_type": "markdown",
   "id": "f70096f5",
   "metadata": {},
   "source": [
    "## Variables\n",
    "\n",
    "Detailed and useful information about variable types [here](https://physics.nyu.edu/pine/pymanual/html/chap3/chap3_arrays.html).\n",
    "\n",
    "### Bool (True and False)\n",
    "A bool (from Boolean) is a variable type with only two values: True or False. It is used for logical operations including, as you will see below, if statements. \n",
    "\n",
    "The most common way to generate booleans is through the comparison operators: \n",
    "    \n",
    "    >  : bigger than\n",
    "    <  : smaller than\n",
    "    == : equal to\n",
    "    =! : not equal to\n",
    "    \n",
    "or through the boolean operators\n",
    "    \n",
    "    not : takes one argument, returns the opposite\n",
    "    and : takes two arguments, returns False only both are True\n",
    "    or  : takes two arguments, returns True unless both are False\n",
    "\n",
    "Here are some examples:"
   ]
  },
  {
   "cell_type": "code",
   "execution_count": null,
   "id": "1c1559fb",
   "metadata": {},
   "outputs": [],
   "source": [
    "test = 4 > 3\n",
    "print(type(test)) # identify the variable type as bool\n",
    "\n",
    "print(2 < 3) # 2 smaller than 3 - True\n",
    "print(1 > 5) # 1 bigger than 5 - False \n",
    "print(6 == 9) # 6 equals to 9 - False\n",
    "print(2 > 5 or 4 > 3) # first argument is False, but second is True, so True is returned \n",
    "print(2 > 1 and not 3 > 4) # first argument is True and second is not False (True) - so and return True"
   ]
  },
  {
   "cell_type": "markdown",
   "id": "fc333367",
   "metadata": {},
   "source": [
    "### Numbers (floats and integers)\n",
    "**Integers** are numbers without decimal points. Floats are numbers with decimal points. Python automatically determines whether a value is an int or a float."
   ]
  },
  {
   "cell_type": "code",
   "execution_count": null,
   "id": "e7b787d3",
   "metadata": {
    "scrolled": true
   },
   "outputs": [],
   "source": [
    "# let's define an integer\n",
    "num_int = 8\n",
    "\n",
    "# and a float\n",
    "num_flo = 5.0\n",
    "\n",
    "# you can convert one to the other\n",
    "print(float(num_int))\n",
    "print(int(num_flo))"
   ]
  },
  {
   "cell_type": "markdown",
   "id": "f07a4155",
   "metadata": {},
   "source": [
    "### Text Strings\n",
    "Strings are collections of characters. Any character that you can type from a computer keyboard, plus a variety of other characters, can be elements in a string. Strings can be defined using both double and single quotes. \n",
    "\n",
    "See section 'str: text strings' in https://pythontutorials.eu/basic/syntax/ for more info on how to produce strings from other variables"
   ]
  },
  {
   "cell_type": "code",
   "execution_count": null,
   "id": "14137806",
   "metadata": {},
   "outputs": [],
   "source": [
    "a = \"My dog's name is\"\n",
    "b = \"Bingo\"\n",
    "c = a + \" \" + b # you can add strings\n",
    "\n",
    "print(c)"
   ]
  },
  {
   "cell_type": "code",
   "execution_count": null,
   "id": "392d0377",
   "metadata": {},
   "outputs": [],
   "source": [
    "# use format to generate new strings from existing variables\n",
    "my_dog = \"golden retriever\"\n",
    "dog_age = 5\n",
    "d = \"My dog {} is a {}, he is {} years old\".format(\"Bingo\", my_dog, dog_age)\n",
    "\n",
    "print(d)"
   ]
  },
  {
   "cell_type": "code",
   "execution_count": null,
   "id": "1a4c083d",
   "metadata": {},
   "outputs": [],
   "source": [
    "# use format to specify the formatting of numbers in a string\n",
    "# here we indicate how many numbers after the decimal point we want to include\n",
    "e = \"My dog {} is a {}, he is {:.2f} years old\".format(b, my_dog, dog_age)\n",
    "\n",
    "print(e)"
   ]
  },
  {
   "cell_type": "markdown",
   "id": "10582c8e",
   "metadata": {},
   "source": [
    "### Lists\n",
    "In Python, an iterable object (or simply an iterable) is a collection of elements that you can loop (or iterate) through one element at a time. There are four iterable types in Python: list, dict, tuple, and set. The elements of lists can be numbers or strings, or both. Lists are defined by a pair of square brackets on either end with individual elements separated by commas."
   ]
  },
  {
   "cell_type": "code",
   "execution_count": null,
   "id": "eef211eb",
   "metadata": {},
   "outputs": [],
   "source": [
    "# can be numbers\n",
    "my_list = [1, 2, 3, 4]\n",
    "\n",
    "# or strings\n",
    "fruits = [\"apple\", \"banana\", \"cherry\", \"kiwi\", \"mango\"]\n",
    "\n",
    "# or combinations\n",
    "test = [203, \"dog\", np.pi]\n",
    "print(test)"
   ]
  },
  {
   "cell_type": "code",
   "execution_count": null,
   "id": "7b7aec44",
   "metadata": {},
   "outputs": [],
   "source": [
    "# you can multiply and add lists\n",
    "print(fruits*2)\n",
    "print(fruits + test)"
   ]
  },
  {
   "cell_type": "code",
   "execution_count": null,
   "id": "312e1b83",
   "metadata": {},
   "outputs": [],
   "source": [
    "# you can use len to get the length of lists\n",
    "print(len(fruits))\n",
    "print(len(fruits + test))"
   ]
  },
  {
   "cell_type": "code",
   "execution_count": null,
   "id": "ca9362ed",
   "metadata": {},
   "outputs": [],
   "source": [
    "# use append to add an element to a list\n",
    "test.append(\"cat\")\n",
    "print(test)"
   ]
  },
  {
   "cell_type": "code",
   "execution_count": null,
   "id": "ded9be96",
   "metadata": {},
   "outputs": [],
   "source": [
    "# use sort to sort lists\n",
    "area_list.sort()\n",
    "print(area_list)"
   ]
  },
  {
   "cell_type": "markdown",
   "id": "17a7e80f",
   "metadata": {},
   "source": [
    "Sort and append are both methods (see below), but unlike other methods and functions, they do not return anything, so the output should not be assigned to a variable. Instead, sort and append change the content of the variable they are invoked from. "
   ]
  },
  {
   "cell_type": "markdown",
   "id": "2907b87d",
   "metadata": {},
   "source": [
    "### Dictionaries\n",
    "Collection of Python objects, just like a list, but one in which data is stored as key:value pairs. Dictionaries are ordered, but only in the sense that data are stored in dictionaries in a defined order (in Python > 3.7). **Importantly**, data cannot be indexed according to their order. Dictonaries are pretty useful for storing sets of related information."
   ]
  },
  {
   "cell_type": "code",
   "execution_count": null,
   "id": "6dba06bb",
   "metadata": {},
   "outputs": [],
   "source": [
    "participant_info = {} # define empty dictionary\n",
    "\n",
    "participant_info[\"last name\"] = \"Kohler\" # add key-value pairs, one at a time\n",
    "\n",
    "participant_info[\"first name\"] = \"Peter\"\n",
    "\n",
    "participant_info[\"age\"] = \"40\"\n",
    "\n",
    "# print dictionary\n",
    "print(participant_info)"
   ]
  },
  {
   "cell_type": "code",
   "execution_count": null,
   "id": "fc2be003",
   "metadata": {},
   "outputs": [],
   "source": [
    "# get value for a specific key\n",
    "print(\"last name is: {}\".format(participant_info[\"last name\"])) \n",
    "\n",
    "# get value for a specific key, and provide default value if key does not exist\n",
    "print(\"address is: {}\".format(participant_info.get(\"address\", \"unknown\"))) "
   ]
  },
  {
   "cell_type": "code",
   "execution_count": null,
   "id": "0ea33c70",
   "metadata": {},
   "outputs": [],
   "source": [
    "# define more than one of keys / values in one line\n",
    "area_sizes = {\"V1\": 500, \"V2\": 300, \"V3\": 200}\n",
    "\n",
    "print(area_sizes.values()) # get all values from a dictionary \n",
    "print(area_sizes.keys()) # get all keys from a dictionary "
   ]
  },
  {
   "cell_type": "markdown",
   "id": "32871032",
   "metadata": {},
   "source": [
    "### Numpy Arrays\n",
    "The elements of a NumPy array, or simply an array, are usually numbers, but can also be boolians, strings, or other objects. When the elements are numbers, they must all be of the same type. For example, they might be all integers or all floating point numbers. Note that you have to import the numpy module (see above) to use Numpy arrays and other functions. The numpy module is imported as np, so you call numpy commands like this \"np.(command_name)\". For example:\n",
    "    \n",
    "    np.array([1, 1])\n",
    "\n",
    "Here's a few examples of use cases:"
   ]
  },
  {
   "cell_type": "code",
   "execution_count": null,
   "id": "c5087096",
   "metadata": {},
   "outputs": [],
   "source": [
    "# here's a one-dimensional array\n",
    "array_1d = np.array([ [ 0,1,2,3 ] ])\n",
    "\n",
    "# use shape to get the shape of the array\n",
    "array_1d.shape \n",
    "# returns a tuple, similar to a list"
   ]
  },
  {
   "cell_type": "code",
   "execution_count": null,
   "id": "cdd83145",
   "metadata": {},
   "outputs": [],
   "source": [
    "# we can get specific dimensions by indexing the tuple\n",
    "array_1d.shape[1]"
   ]
  },
  {
   "cell_type": "code",
   "execution_count": null,
   "id": "ab71d2e0",
   "metadata": {},
   "outputs": [],
   "source": [
    "# now let's make a two-dimensional array, a matrix: \n",
    "\n",
    "array_2d = np.array( [ [0, 0, 0], [1, 1, 1] ] )\n",
    "print( \"here's my array: \\n {}\".format(array_2d) )\n",
    "\n",
    "array_2d.shape"
   ]
  },
  {
   "cell_type": "markdown",
   "id": "e0e248aa",
   "metadata": {},
   "source": [
    "Numpy has many functions for creating arrays, I highlight a few examples below:"
   ]
  },
  {
   "cell_type": "code",
   "execution_count": null,
   "id": "b76165a9",
   "metadata": {},
   "outputs": [],
   "source": [
    "# make an array of ones or zeros\n",
    "ones_array = np.ones((10,1000))\n",
    "print(ones_array)\n",
    "\n",
    "# make an array of sevens\n",
    "print(ones_array*7)"
   ]
  },
  {
   "cell_type": "code",
   "execution_count": null,
   "id": "9c4bc6ab",
   "metadata": {},
   "outputs": [],
   "source": [
    "# numpy has many functions for making arrays:\n",
    "zeros_array = np.zeros_like(array_2d) # make an array filled with zeros that has the same shape and type as the input\n",
    "print( \"here's a version filled with zeros:\\n {}\".format(zeros_array) )\n",
    "\n",
    "# again use shape function to get the spape of the array\n",
    "print(\"the shape of my array is {} by {}\".format( zeros_array.shape[0], zeros_array.shape[1] ) )"
   ]
  },
  {
   "cell_type": "markdown",
   "id": "d40a6499",
   "metadata": {},
   "source": [
    "Numpy arrays have many \"methods\", including shape, which we used above. A method is a \"built-in\" function - a function that \"belongs to\" an object, like an np.array variable.\n",
    "\n",
    "Other numpy array methods include: mean, sum, count.\n",
    "\n",
    "Note that many methods have corresponding functions that do the same thing as the method. An example:"
   ]
  },
  {
   "cell_type": "code",
   "execution_count": null,
   "id": "3300cd43",
   "metadata": {},
   "outputs": [],
   "source": [
    "print(\"method: {}, stand-alone function: {}\".format( np.sum(array_2d, 1), array_2d.sum(1) ) )"
   ]
  },
  {
   "cell_type": "markdown",
   "id": "608a6fa3",
   "metadata": {},
   "source": [
    "While some functions are also methods, this is not true for all functions: \n",
    "A relevant example: \n",
    "    \n",
    "    np.nanmean() \n",
    "\n",
    "... which gives you the mean while excluding any NaNs in the array.  \n",
    "\n",
    "Finally, note that format, which we used above, is a method of strings in Python:\n",
    "    \n",
    "    \"{}, {}\".format(x, y ...) "
   ]
  },
  {
   "cell_type": "markdown",
   "id": "13521f54",
   "metadata": {},
   "source": [
    "np.random.normal is a function that returns an array of shape *size* of random numbers sampled from a normal distribution with mean *mu* and standard deviation *std*. The *size* argument is a list (or tuple) indicating the size of the matrix.\n",
    "\n",
    "    np.random.normal(mu, std, size) \n",
    "\n",
    "Similarly, the command\n",
    "    \n",
    "    np.random.uniform(low, high, size_m)\n",
    "\n",
    "can be used to generate an array of randon numbers sampled from a uniform distribution between *low* and *high* (but not including *high*), again with the *size* argument is a list (or tuple) indicating the size of the matrix.\n",
    "\n",
    "Below, we generate 10,000 samples from each of the two dimensions.\n"
   ]
  },
  {
   "cell_type": "code",
   "execution_count": null,
   "id": "18f904b9",
   "metadata": {},
   "outputs": [],
   "source": [
    "n_samples = 10000\n",
    "size_m = [1, n_samples] # note the square brackets, the size_m argument is a list\n",
    "\n",
    "# uniformly distributed random numbers\n",
    "low = -1 # is included in the range\n",
    "high = 1 # is not included in the range\n",
    "u_sample = np.random.uniform(low, high, size_m)\n",
    "u_counts, u_bins = np.histogram(u_sample)\n",
    "\n",
    "# normally distributed random numbers\n",
    "mu = 0     # mean of normal distribution\n",
    "stdev = 0.25 # standard deviation of normal distribution - number chosen to match the uniform distribution\n",
    "n_sample = np.random.normal(mu,stdev,size_m) \n",
    "\n",
    "# note that, unlike above, some values can be below -1 and above 1\n",
    "# try running the code a few times to see if it happens\n",
    "print(\"normally distributed sample with mean {} and standard deviation {}:\".format(mu, stdev))\n",
    "print(\"\\t{} values below -1\".format((n_sample < -1).sum()))\n",
    "print(\"\\t{} values above 1\".format((n_sample > 1).sum()))\n",
    "n_counts, n_bins = np.histogram(n_sample, u_bins)\n",
    "\n",
    "# we plot the two sets of numbers to highlight the differences in the two distributions\n",
    "plt.stairs(u_counts, u_bins, color='r')\n",
    "plt.stairs(n_counts, n_bins)\n",
    "plt.ylabel(\"# of samples\")\n",
    "plt.show()"
   ]
  },
  {
   "cell_type": "code",
   "execution_count": null,
   "id": "f47bdec0",
   "metadata": {},
   "outputs": [],
   "source": [
    "# now that we've defined some variables, we can use whos to see what they are\n",
    "%whos"
   ]
  },
  {
   "cell_type": "code",
   "execution_count": null,
   "id": "4d60514b",
   "metadata": {},
   "outputs": [],
   "source": [
    "# we can also inspect the variable type for a specific variable, using the \"type\" variable\n",
    "type(area_sizes)"
   ]
  },
  {
   "cell_type": "markdown",
   "id": "fabf6ac6",
   "metadata": {},
   "source": [
    "## Manipulating arrays and broadcasting\n",
    "Broadcasting is a powerful feature of Python that allows you to perform operations using arrays of different shapes"
   ]
  },
  {
   "cell_type": "code",
   "execution_count": null,
   "id": "33d6c0bb",
   "metadata": {},
   "outputs": [],
   "source": [
    "base_array = np.array([[2,2,2],[4,4,4]])\n",
    "\n",
    "# we can manipulate arrays by adding, multiplying, dividing, by single numbers (scalars)\n",
    "print(base_array)\n",
    "\n",
    "print(base_array + 1)\n",
    "\n",
    "print(base_array * 2)"
   ]
  },
  {
   "cell_type": "code",
   "execution_count": null,
   "id": "00a601f2",
   "metadata": {},
   "outputs": [],
   "source": [
    "# we can also perform operations using two arrays\n",
    "\n",
    "print(base_array + np.array([[0,0,0],[1,1,1]]))"
   ]
  },
  {
   "cell_type": "code",
   "execution_count": null,
   "id": "6aba2d04",
   "metadata": {},
   "outputs": [],
   "source": [
    "# let's try to subtract two arrays that have different shapes\n",
    "sub_array = np.array([[1,2,3]])\n",
    "\n",
    "print(\"shape of base is {}, shape of sub is {}\".format(base_array.shape, sub_array.shape))"
   ]
  },
  {
   "cell_type": "code",
   "execution_count": null,
   "id": "60cdeebd",
   "metadata": {
    "scrolled": true
   },
   "outputs": [],
   "source": [
    "# when arrays have different shapes, broadcasting extends the shape of the smaller array to fit the larger array\n",
    "# subject to certain constraints\n",
    "\n",
    "print(base_array - sub_array)"
   ]
  },
  {
   "cell_type": "markdown",
   "id": "646d21a7",
   "metadata": {},
   "source": [
    "Here,\n",
    "\n",
    "    [ [2, 2, 2], [4, 4, 4] ] - [ 1, 2, 3]\n",
    "    \n",
    "is evaluated as:\n",
    "\n",
    "    [ [2-1, 2-2, 2-3], [4-1, 4-2, 4-3] ] = [ [ 1  0 -1], [ 3  2  1] ]\n",
    "\n",
    "Note that operations with a scalar is just the simplest case of this:\n",
    "    \n",
    "    [1, 2, 3] * a\n",
    "    \n",
    "is evaluated as:\n",
    "\n",
    "    [1*a, 2*a, 3*a]"
   ]
  },
  {
   "cell_type": "markdown",
   "id": "21941eda",
   "metadata": {},
   "source": [
    "## If statements"
   ]
  },
  {
   "cell_type": "code",
   "execution_count": null,
   "id": "f590f542",
   "metadata": {},
   "outputs": [],
   "source": [
    "# if statements are used to control the flow of a program\n",
    "# if statements are used to check a condition, and then execute code if the condition is true\n",
    "\n",
    "# here's an example where we check if one variable is bigger than another\n",
    "var1 = 5\n",
    "var2 = 2\n",
    "if var2 > var1:\n",
    "    print(\"var2 is bigger than var1\")\n",
    "\n",
    "# note the syntax: the if statement ends with a colon and the code that is executed if the condition is true is indented\n",
    "    \n",
    "# we can add else statements, to return another value if the condition is false\n",
    "if var2 > var1:\n",
    "    print(\"var2 is bigger than var1\")\n",
    "else:\n",
    "    print(\"var2 is not bigger than var1\")\n",
    "\n",
    "# if else (elif) statements tests for multiple possibilities one after the other\n",
    "# we can use it to test for the complete range of possibilities\n",
    "\n",
    "if var2 == var1:\n",
    "    print(\"var1 and var2 are equal\")\n",
    "elif var2 > var1:\n",
    "    print(\"var2 is bigger than var1\")\n",
    "else:\n",
    "    print(\"var1 is bigger than var2\")\n",
    "\n",
    "# try various values for var1 and var2 to see how the if else statement works\n"
   ]
  },
  {
   "cell_type": "markdown",
   "id": "4dea9fd7",
   "metadata": {},
   "source": [
    "## Loops\n",
    "\n",
    "There are two kinds of loops, for loops and while loops. \n",
    "\n",
    "A **for loop** executes a code block for each element in like (or another iterable). \n",
    "\n",
    "A **while loop** executes a code block until some condition is no longer true. \n",
    "\n",
    "Like an if statement, both for and while loops statement ends with a colon, and the to-be-looped code block is defined by indentation.\n",
    "\n",
    "More info here: https://pythontutorials.eu/basic/loops/"
   ]
  },
  {
   "cell_type": "code",
   "execution_count": null,
   "id": "fd7014b5",
   "metadata": {},
   "outputs": [],
   "source": [
    "# example of a for loop\n",
    "for animal in [\"dog\", \"cat\", \"mouse\"]:\n",
    "    print(\"the animal is a {}\".format(animal))\n",
    "\n",
    "# example of a while loop\n",
    "var1 = 1\n",
    "while var1 < 100:\n",
    "    if (var1 % 2) == 0:\n",
    "        print(\"{} is even number\".format(var1))\n",
    "    var1 += 1"
   ]
  },
  {
   "cell_type": "markdown",
   "id": "7adfe8e6",
   "metadata": {},
   "source": [
    "## Creating and manipulating lists"
   ]
  },
  {
   "cell_type": "code",
   "execution_count": null,
   "id": "d138e191",
   "metadata": {},
   "outputs": [],
   "source": [
    "# you can create lists using functions like range([start], stop, [step])\n",
    "\n",
    "num_list1 = [ x for x in range(0, 10) ] # numbers from 0-9, step size 1 (default)\n",
    "num_list2 = [ x for x in range(20, 30, 2) ] # numbers from 0-9, step size 2 = skip odd numbers\n",
    "\n",
    "# note that the two examples above are using list comprehension\n",
    "# to illustrate, we can do the same thing using a for loop with the append method:\n",
    "num_list3 = []\n",
    "for x in range(20,30,2):\n",
    "    num_list3.append(x)\n",
    "\n",
    "# list comprehension is basically a way of making a new iterable (like a list) from an existing iterable\n",
    "# this is very useful - here we use it with an if statement\n",
    "# to make a list that excludes some of the elements in the original list \n",
    "\n",
    "fruits = [\"apple\", \"banana\", \"cherry\", \"kiwi\", \"mango\"]\n",
    "fruits_with_a = [x for x in fruits if \"a\" in x]\n",
    "\n",
    "print(fruits_with_a)\n",
    "\n",
    "# zip() takes one or more iterables, and returns a zipped iterable \n",
    "# in which elements from the original iterables are paired. \n",
    "# you can use zip with list comprehension to combine lists\n",
    "\n",
    "hemi = [ \"LH\", \"RH\" ]\n",
    "brain_area = [\"V1\", \"V2\", \"V3\"] # these are areas in visual cortex\n",
    "area_list = [x + \"_\" + y for x, y in zip(brain_area*2, list(np.repeat(hemi, 3)))]\n",
    "print(area_list)\n",
    "\n",
    "# list comprehension is like a for loop expressed on a single line\n",
    "# note what happens when we make the for loop explicit: \n",
    "i = 0\n",
    "for x, y in zip(brain_area*2, list(np.repeat(hemi, 3))):\n",
    "    print(\"iteration num: \" + str(i))\n",
    "    print(x + \"_\" + y)\n",
    "    i=i+1"
   ]
  },
  {
   "cell_type": "markdown",
   "id": "d65b267e",
   "metadata": {},
   "source": [
    "## Selecting subsets from a list"
   ]
  },
  {
   "cell_type": "code",
   "execution_count": null,
   "id": "3e193ad8",
   "metadata": {},
   "outputs": [],
   "source": [
    "# you can index lists to grab individual elements\n",
    "print(area_list[0]) # grab first element of area list\n",
    "\n",
    "# note that indexing in Python is zero-based, indices start at zero"
   ]
  },
  {
   "cell_type": "code",
   "execution_count": null,
   "id": "6a908162",
   "metadata": {},
   "outputs": [],
   "source": [
    "print(area_list[:2]) # grab first two elements of area list"
   ]
  },
  {
   "cell_type": "code",
   "execution_count": null,
   "id": "a898bf8b",
   "metadata": {},
   "outputs": [],
   "source": [
    "print(area_list[2:]) # grab all elements expect the first two"
   ]
  },
  {
   "cell_type": "code",
   "execution_count": null,
   "id": "36112613",
   "metadata": {},
   "outputs": [],
   "source": [
    "print(area_list[-2:]) # grab the last two elements (negative values mean starting from the back)"
   ]
  },
  {
   "cell_type": "code",
   "execution_count": null,
   "id": "13bfad1c",
   "metadata": {},
   "outputs": [],
   "source": [
    "V3_list = [x for x in area_list if \"V3\" in x ] # of course, you can also use list comprehension\n",
    "\n",
    "print(V3_list)"
   ]
  },
  {
   "cell_type": "markdown",
   "id": "df846cfa",
   "metadata": {},
   "source": [
    "## Selecting subsets from a numpy array\n",
    "### Numerical Indexing"
   ]
  },
  {
   "cell_type": "code",
   "execution_count": null,
   "id": "626e62f1",
   "metadata": {},
   "outputs": [],
   "source": [
    "my_array = np.array([[1, 2, 3], [4, 5, 6]])\n",
    "\n",
    "my_array[0,1] # grab second element in first row\n",
    "              # note the square brackets"
   ]
  },
  {
   "cell_type": "code",
   "execution_count": null,
   "id": "beb304fa",
   "metadata": {},
   "outputs": [],
   "source": [
    "my_array[:,1] # grab entire second column\n",
    "\n",
    "my_array[0,:] # grab entire first row"
   ]
  },
  {
   "cell_type": "markdown",
   "id": "cccfb6e8",
   "metadata": {},
   "source": [
    "### Logical Indexing"
   ]
  },
  {
   "cell_type": "code",
   "execution_count": null,
   "id": "52649b26",
   "metadata": {},
   "outputs": [],
   "source": [
    "# let's define a matrix of random numbers \n",
    "test = np.random.normal(0,1,(2,5)) # returns an 2 x 5 array of random numbers pulled a normal distribution"
   ]
  },
  {
   "cell_type": "code",
   "execution_count": null,
   "id": "a2321bef",
   "metadata": {},
   "outputs": [],
   "source": [
    "bigger_zero_test = test[test > 0] # returns the values of test bigger than zero\n",
    "                               # note the square brackets\n",
    "\n",
    "print(bigger_zero_test)"
   ]
  },
  {
   "cell_type": "code",
   "execution_count": null,
   "id": "14948405",
   "metadata": {},
   "outputs": [],
   "source": [
    "lgl_idx = test > 0 # this is a logical index (can be applied to any array that has the same shape)\n",
    "\n",
    "print(\"here is the logical index: \\n {}\".format(lgl_idx))"
   ]
  },
  {
   "cell_type": "code",
   "execution_count": null,
   "id": "119593e0",
   "metadata": {},
   "outputs": [],
   "source": [
    "# use built-in function non-zero to get the numerical indices\n",
    "\n",
    "num_idx = lgl_idx.nonzero()\n",
    "print(\"here is the numerical index: \\n {}\".format(num_idx))"
   ]
  },
  {
   "cell_type": "code",
   "execution_count": null,
   "id": "f8ec9e6a",
   "metadata": {},
   "outputs": [],
   "source": [
    "# now we can use the numerical index to grab the non-zero values\n",
    "print(test[num_idx])"
   ]
  },
  {
   "cell_type": "code",
   "execution_count": null,
   "id": "034ddc1c",
   "metadata": {},
   "outputs": [],
   "source": [
    "# note that we may also want to identify the absolute values bigger than 1\n",
    "\n",
    "big_num_test = test[np.abs(test) > 1]\n",
    "\n",
    "print(big_num_test)"
   ]
  },
  {
   "cell_type": "code",
   "execution_count": null,
   "id": "460c3907",
   "metadata": {},
   "outputs": [],
   "source": [
    "# what if want to identify the index associated with some value \n",
    "# e.g. minimum and maximum of an array? \n",
    "\n",
    "# np.min and np.max returns the minimum and maximum values\n",
    "max_val = np.max(test)\n",
    "min_val = np.min(test)\n",
    "\n",
    "# create a logical index identifying positions in test where the value is equal to the max\n",
    "# in our case, there will only be one such position\n",
    "max_lgl_idx = test==max_val\n",
    "\n",
    "# we can again use nonzero to convert to numerical index\n",
    "\n",
    "max_num_idx = max_lgl_idx.nonzero()\n",
    "\n",
    "# they can then be used to index into the same variable or other variables\n",
    "\n",
    "print( \"np.max: {:.2f}, index method: {:.2f}\".format(max_val, test[max_num_idx].item()) )"
   ]
  },
  {
   "cell_type": "markdown",
   "id": "850442ae",
   "metadata": {},
   "source": [
    "## Functions\n",
    "Functions are used to avoid repetition when the same operations are done several times, and to help organize and compartmentalize your code.\n",
    "\n",
    "Like an if statement and loops, function definitions end with a colon, and the code that is executed inside the function is defined by indentation\n",
    "\n",
    "    def some_function(in_var1, in_var2, in_var3)\n",
    "        # code to execute\n",
    "        return out_var1, out_var2, out_var3\n",
    "\n",
    "It is important to emphasize that function do not have access to the variables in the workspace unless they are passed as input variables (in_var1, in_var2, in_var3 in the above examples). Similarly, any variables defined or changes inside the function does not become accessible in the workspace, unless they are passed as output variables (out_var1, out_var2, out_var3 in the above example). \n",
    "\n",
    "Functions can be specified to have any number of input and output variables, including none at all. \n",
    "\n",
    "If input variables are specified, they are usually required for calling the function, however you can also specify default variables.\n",
    "In this example, if this function is only given the two first (required) input variables, the third input variable will be assigned the value 3.\n",
    "\n",
    "    def some_function(in_var1, in_var2, in_var3=2)\n",
    "        # code to execute\n",
    "        return out_var1, out_var2, out_var3\n"
   ]
  },
  {
   "cell_type": "code",
   "execution_count": null,
   "id": "08a65988",
   "metadata": {},
   "outputs": [],
   "source": [
    "# example of function without inputs or outputs\n",
    "def my_function():\n",
    "    print(\"this is my function\")\n",
    "\n",
    "# let's call the function\n",
    "my_function()\n",
    "\n",
    "# example of function with some inputs and outputs\n",
    "def my_function2(a, b):\n",
    "    c = a + b\n",
    "    return c\n",
    "# let's call the function\n",
    "out2 = my_function2(1, 2)\n",
    "\n",
    "print(out2)\n",
    "\n",
    "# example of function with more than one output\n",
    "\n",
    "def my_function3(a, b):\n",
    "    c = a + b\n",
    "    d = a - b\n",
    "    return c, d\n",
    "\n",
    "# let's call the function\n",
    "out3a, out3b = my_function3(1, 2)\n",
    "\n",
    "print(out3a, out3b)\n",
    "\n",
    "# example of fun with default values for inputs\n",
    "def my_function4(a, b=2):\n",
    "    c = a + b\n",
    "    return c\n",
    "\n",
    "# let's call the function\n",
    "out4a = my_function4(1)\n",
    "\n",
    "# let's call the function again, but with a different, non-default, value for b \n",
    "out4b = my_function4(1, 3) \n",
    "\n",
    "print(out4a, out4b)"
   ]
  },
  {
   "cell_type": "markdown",
   "id": "2e7ea00d",
   "metadata": {},
   "source": [
    "## How to get help?\n",
    "Adding \"?\" in front of a function or variable will give you information about it. "
   ]
  },
  {
   "cell_type": "code",
   "execution_count": null,
   "id": "78c07e01",
   "metadata": {},
   "outputs": [],
   "source": [
    "# can be applied to functions\n",
    "np.nanmean?"
   ]
  },
  {
   "cell_type": "code",
   "execution_count": null,
   "id": "5ac531e7",
   "metadata": {},
   "outputs": [],
   "source": [
    "# methods\n",
    "area_list.sort?"
   ]
  },
  {
   "cell_type": "code",
   "execution_count": null,
   "id": "e181a943",
   "metadata": {},
   "outputs": [],
   "source": [
    "# modules\n",
    "np?"
   ]
  },
  {
   "cell_type": "code",
   "execution_count": null,
   "id": "929dd873",
   "metadata": {},
   "outputs": [],
   "source": [
    "# and even variables\n",
    "area_sizes?"
   ]
  },
  {
   "cell_type": "markdown",
   "id": "68c67fff",
   "metadata": {},
   "source": [
    "## Assignment 1\n",
    "### Question 1 (1 pts): \n",
    "\n",
    "**Variable types:** Consider the variable\n",
    "\n",
    "    cortex_lobes = [\"frontal\", \"occipital\", \"parietal\", \"temporal\"]\n",
    "\n",
    "**(A)** What is the variable type?\n",
    "\n",
    "**(B)** Provide at least one Python command that returns the answer to 1a.\n",
    "\n",
    "**Please share the variable type and your command for determining the variable type in your answer**"
   ]
  },
  {
   "cell_type": "code",
   "execution_count": null,
   "id": "d1614069",
   "metadata": {},
   "outputs": [],
   "source": [
    "# answer for Question 1:\n"
   ]
  },
  {
   "cell_type": "markdown",
   "id": "b7631238",
   "metadata": {},
   "source": [
    "### Question 2 (1 pts): \n",
    "**Getting help:** When the numpy module is imported as np, the command np.zeros returns a\n",
    "numpy array filled with zeros.\n",
    "\n",
    "\n",
    "**(A)** Which Python command would you use to get information about how to use np.zeros?\n",
    "\n",
    "**(B)** Provide code that uses the command to return an array that has 3 rows and 4 columns.\n",
    "\n",
    "**Please share the command to get help, and the code for creating the requestion array in your answer**"
   ]
  },
  {
   "cell_type": "code",
   "execution_count": null,
   "id": "4077a819",
   "metadata": {},
   "outputs": [],
   "source": [
    "# answer for Question 2:"
   ]
  },
  {
   "cell_type": "markdown",
   "id": "5322969a",
   "metadata": {},
   "source": [
    "### Question 3 (1 pts):\n",
    "**Working with strings:** Consider the string variable\n",
    "    \n",
    "    cur_region = 'LH_V3v'\n",
    "\n",
    "Please write a function <span style=\"color:green\">hemisphere_check</span> that take a string variable like that as its only input and converts it to lower case using the \".lower()\" method. The function should then use the \".startswith()\" method to check if the input starts with 'rh' or 'lh', and returns the string \"right hemisphere\" if the former, and \"left hemisphere\" if the latter. \n",
    "\n",
    "**Please submit your function for checking using VPL. No other answer is needed for this question.**"
   ]
  },
  {
   "cell_type": "code",
   "execution_count": null,
   "id": "6332be40",
   "metadata": {},
   "outputs": [],
   "source": [
    "# answer for Question 3:\n",
    "\n",
    "def hemisphere_check(region_name):\n",
    "    # your code here\n",
    "    return output\n",
    "\n",
    "# test your function\n",
    "cur_region = 'LH_V3v'\n",
    "hemisphere_check(cur_region)"
   ]
  },
  {
   "cell_type": "markdown",
   "id": "36752eb2",
   "metadata": {},
   "source": [
    "### Question 4 (1 pts):\n",
    "**Working with strings:** There is a bug in the following example in https://pythontutorials.eu/basic/syntax/ under \"Converting to float, int, or str\":\n",
    "\n",
    "    int_like_str = '10'\n",
    "    var_type = type(int_like_str)\n",
    "    print('int_like_str is a {var_type}')\n",
    "    \n",
    "**(A)** Describe the error? What is intended to happen, and what does actually happen?\n",
    "\n",
    "**(B)** Please rewrite the code so that the example works as intended\n",
    "\n",
    "**Please share your description of why the error happens, and your revised code, in your answer.**"
   ]
  },
  {
   "cell_type": "code",
   "execution_count": null,
   "id": "ac691006",
   "metadata": {},
   "outputs": [],
   "source": [
    "# answer for Question 4:\n"
   ]
  },
  {
   "cell_type": "markdown",
   "id": "517ce6e6",
   "metadata": {},
   "source": [
    "### Question 5 (1 pts): \n",
    "**Working with Numpy: Creating matrices** \n",
    "\n",
    "**(A)** Use np.random.uniform to create a variable uniform_mat that holds a matrix with 5 rows and\n",
    "3 columns, where numbers take on values between -1 and 5, not including 5.\n",
    "\n",
    "**(B)**  Use np.random.normal to create a variable normal_mat that holds a matrix with 4 rows and\n",
    "2 columns, sampled from a normal distribution with mean of 0 and standard deviation of 1. \n",
    "\n",
    "**Please share the code used to create the two variables in your answer.**"
   ]
  },
  {
   "cell_type": "code",
   "execution_count": null,
   "id": "d0cb1433",
   "metadata": {},
   "outputs": [],
   "source": [
    "# answer for Question 5:\n"
   ]
  },
  {
   "cell_type": "markdown",
   "id": "509c8a39",
   "metadata": {},
   "source": [
    "### Question 6 (1 pts): \n",
    "**Working with Numpy: Logical indexing** \n",
    "\n",
    "Please write a function  <span style=\"color:green\">select_bigger</span> that takes a numpy array as the first input a scalar *threshold* as the second input. \n",
    "\n",
    "The function should use logical indexing to identify and return all values bigger than *threshold*.\n",
    "\n",
    "The easiest way to do this is to first create an index, and the use the index to pull out the values from the input array. \n",
    "\n",
    "You can test your function using any array you would like, including the arrays you created in the previous assigment.\n",
    "\n",
    "**Please submit your function for checking using VPL. No other answer is needed for this question.**\n",
    "\n"
   ]
  },
  {
   "cell_type": "code",
   "execution_count": null,
   "id": "0345c092",
   "metadata": {},
   "outputs": [],
   "source": [
    "# answer for Question 6:\n",
    "def select_bigger(mat, threshold):\n",
    "    # your code here\n",
    "    return output  \n",
    "\n",
    "# test your function\n",
    "threshold = 0.6\n",
    "normal_mat = np.random.normal(0, 1, (4,2)) \n",
    "out = select_bigger(normal_mat, threshold)\n",
    "print(out)"
   ]
  },
  {
   "cell_type": "markdown",
   "id": "4dbe0eb8",
   "metadata": {},
   "source": [
    "### Question 7 (1 pts):\n",
    "**Working with Numpy:**\n",
    "\n",
    "Please write a function  <span style=\"color:green\">get_maxmin</span> that take a numpy array as the only input and returns the maximum and minimum as two scalar values. \n",
    "\n",
    "**Please submit your function for checking using VPL. No other answer is needed for this question.**"
   ]
  },
  {
   "cell_type": "code",
   "execution_count": null,
   "id": "4b73df5d",
   "metadata": {},
   "outputs": [],
   "source": [
    "def get_maxmin(input_mat):\n",
    "    # your code here\n",
    "    return max_out, min_out\n",
    "\n",
    "# test your function\n",
    "uniform_mat = np.random.uniform(-1, 5, (5,3)) \n",
    "max_out, min_out = get_maxmin(uniform_mat)\n",
    "print(\"maximum: {:.2f}, minimum: {:.2f}\".format(max_out, min_out))"
   ]
  },
  {
   "cell_type": "markdown",
   "id": "41d09a8d",
   "metadata": {},
   "source": [
    "### Question 8 (1 pts): \n",
    "**If statements and while loops:**\n",
    "\n",
    "a) Provide code that takes input from the user (using the input command), prints \"left\" is the\n",
    "input starts with \"LH\", prints \"right\" if the input starts with \"RH\" and prints \"unknown\" if the\n",
    "input starts with neither. Printing should be done to the standard output.\n",
    "\n",
    "b) Put the code inside a while loop, so it keeps running until user provides \"stop!\" as the input.\n",
    "\n",
    "**Please share your code in your answer.**"
   ]
  },
  {
   "cell_type": "code",
   "execution_count": null,
   "id": "acb28a01",
   "metadata": {},
   "outputs": [],
   "source": [
    "# answer for Question 8\n",
    "\n",
    "input_str = '' # good idea not to name the variable 'input', because input is Python command\n",
    "\n",
    "# your code here"
   ]
  },
  {
   "cell_type": "markdown",
   "id": "95bcae4f",
   "metadata": {},
   "source": [
    "### Question 9 (1 pts):  \n",
    "**For loops:** The code below generates a list of left and right hemisphere brain areas:\n",
    "\n",
    "    hemi = [ \"LH\", \"RH\" ]\n",
    "    brain_area = [\"V1\", \"V2\", \"V3\"]\n",
    "    area_list = [x + \"_\" + y for x, y in zip(brain_area*2, list(np.repeat(hemi, 3)))]\n",
    "\n",
    "a) Write code to determine the length of the area_list\n",
    "\n",
    "b) Write code to sort area_list, using the \"sort()\" method\n",
    "\n",
    "c) Use a for loop to loop over area_list and print out all left hemisphere brain areas to the\n",
    "standard output.\n",
    "\n",
    "d) Use slicing to print out the first four elements in area_list\n",
    "\n",
    "**Please share your code in your answer.**"
   ]
  },
  {
   "cell_type": "code",
   "execution_count": null,
   "id": "73eed4d9",
   "metadata": {},
   "outputs": [],
   "source": [
    "# answer for Question 9:\n"
   ]
  },
  {
   "cell_type": "markdown",
   "id": "295c501d",
   "metadata": {},
   "source": [
    "### Question 10 \n",
    "**Range:** \n",
    "Create a function <span style=\"color:green\">odd_maker</span> that takes two integer variables as input, start and stop, and uses the range command with a for loop or with list comprehension to generate a list of odd integers numbers between 10 and 30.\n",
    "\n",
    "**Please submit your function for checking using VPL. No other answer is needed for this question.**"
   ]
  },
  {
   "cell_type": "code",
   "execution_count": null,
   "id": "2cd1da5e",
   "metadata": {},
   "outputs": [],
   "source": [
    "# answer for Question 10:\n",
    "def odd_maker(start, stop):\n",
    "    # your code here\n",
    "    return odd_list\n",
    "\n",
    "# test your code\n",
    "odd_list1 = odd_maker(11, 500)\n",
    "print(odd_list1)"
   ]
  }
 ],
 "metadata": {
  "kernelspec": {
   "display_name": "Python 3 (ipykernel)",
   "language": "python",
   "name": "python3"
  },
  "language_info": {
   "codemirror_mode": {
    "name": "ipython",
    "version": 3
   },
   "file_extension": ".py",
   "mimetype": "text/x-python",
   "name": "python",
   "nbconvert_exporter": "python",
   "pygments_lexer": "ipython3",
   "version": "3.12.0"
  }
 },
 "nbformat": 4,
 "nbformat_minor": 5
}
