{
 "cells": [
  {
   "cell_type": "markdown",
   "id": "baed10a0-49df-4633-bc9d-c5ec87922b46",
   "metadata": {},
   "source": [
    "# Introduction to TMS and Motor Thresholds \n",
    "\n",
    "Authored by Remy Cohan [cohanR.github.io] with minor edits - mostly formatting - by Peter Kohler [kohlerlab.com].\n",
    "\n",
    "As discussed during the lecture and as you saw in the video we played during class (also available on eClass), in TMS research, we often measure motor thresholds (MTs) using single-pulse TMS to primary motor cortex (M1). The resting motor threshold (rMT) is defined as the minimum TMS intensity that produces an electromyographic (EMG) response of 50 µV in a relaxed muscle. MTs are an important measure because they can reflect changes in neural excitability and plasticity.\n",
    "\n",
    "On the other hand, repetitive TMS (rTMS) is a different technique where multiple pulses are delivered in patterns (e.g., 1 Hz, 10 Hz, or theta burst stimulation). rTMS is gaining popularity as a potential treatment for neuropsychiatric conditions and in neurorehabilitation.\n",
    "\n",
    "To study the effects of rTMS, we can measure MTs using single-pulse TMS before and after an rTMS protocol. This allows us to see how the rTMS protocol changes neural activity in a specific brain area, which is critical when designing treatment protocols.\n",
    "\n",
    "Remember the distinction:\n",
    "\n",
    "* Single-pulse TMS: Measures MTs and neural excitability in primary motor cortex (M1).\n",
    "    \n",
    "* Repetitive TMS (rTMS): Modulates neural activity to induce plasticity.\n",
    "    \n",
    "In the data below, pre-rTMS refers to a baseline single-pulse TMS measure of MTs before the rTMS protocol. Post-rTMS refers to the same measure after the rTMS protocol.\n",
    "\n",
    "This background should help you interpret the data and answer the following questions.\n",
    "\n",
    "**It is a good idea to review some of Panda's functions such as groupby and .agg here:** https://github.com/marsja/jupyter/blob/master/pandas_groupby_tutorial.ipynb"
   ]
  },
  {
   "cell_type": "markdown",
   "id": "4029999e-b3f0-4469-9178-4ad412947d56",
   "metadata": {},
   "source": [
    "## Preample: Import some packages \n",
    "\n",
    "As in often the case, we start our code by importing some Python modules. \n",
    "\n",
    "In this case, we import the pandas module, which is a powerful data manipulation library and scipy which we use for our correlation analysis. \n",
    "We also import modules for plotting, matplotlib and seaborn. "
   ]
  },
  {
   "cell_type": "code",
   "execution_count": 39,
   "id": "5aecb584-dcc6-41cf-a634-a1a0fd831d83",
   "metadata": {},
   "outputs": [],
   "source": [
    "# install tools for getting data off osf, and for fitting the data\n",
    "try:\n",
    "  import google.colab\n",
    "  IN_COLAB = True\n",
    "except:\n",
    "  IN_COLAB = False\n",
    "if IN_COLAB:  \n",
    "    import shutil\n",
    "    # download github repository to get access to the tms data\n",
    "    shutil.rmtree(\"NRSC2200\", ignore_errors=True)\n",
    "    !git clone https://github.com/pjkohler/NRSC2200\n",
    "    # add tms directory to path\n",
    "    datapath = \"NRSC2200/tms/tms_cohan_data.csv\"\n",
    "else:\n",
    "    datapath = \"tms_cohan_data.csv\"\n",
    "# import python modules to use for analysis\n",
    "import pandas as pd\n",
    "import matplotlib.pyplot as plt\n",
    "import seaborn as sns\n",
    "from scipy.stats import pearsonr"
   ]
  },
  {
   "cell_type": "markdown",
   "id": "4025ea62",
   "metadata": {},
   "source": [
    "## Question 1: Data Inspection (1 point)\n",
    "\n",
    "How many pre- and post data points are present in the dataset?\n",
    "\n",
    "To answer this, load the dataset and count the number of available data points for the pre_rMT and post_rMT columns.\n",
    "\n",
    "Remember, pandas was imported as pd (see above). The code below starts with reading the data from the csv file into a pandas dataframe. \n",
    "\n",
    "Please include only the lines of code that you changed, in your submitted answer."
   ]
  },
  {
   "cell_type": "code",
   "execution_count": null,
   "id": "fd837688",
   "metadata": {},
   "outputs": [],
   "source": [
    "# load the dataset\n",
    "data = pd.read_csv(datapath)\n",
    "\n",
    "# print column names from the data (csv file):\n",
    "\n",
    "# Where ever you see this \"# add your code here\" you need to add your answer \n",
    "\n",
    "# in this first example, we are going to give you the answer:\n",
    "\n",
    "print(\"column names:\", # add your code here )    # answer: data.columns.tolist()"
   ]
  },
  {
   "cell_type": "code",
   "execution_count": null,
   "id": "0a5ee5c0",
   "metadata": {},
   "outputs": [],
   "source": [
    "# Using the variable names pre_count and post_count, count the number of pre- and post-rMT data points and print the answer\n",
    "# Hint: Use .notna() to check for missing values before counting.\n",
    "\n",
    "# fill in the function to count non-null values for pre_rMT\n",
    "pre_count = # add your code here\n",
    "\n",
    "# fill in the function to count non-null values for post_rMT      \n",
    "post_count =  # add your code here\n",
    "\n",
    "# if the code you added above are correct, running this section should print out the answers\n",
    "print(f\"number of Pre rMT data points: {pre_count}\")\n",
    "print(f\"number of Post rMT data points: {post_count}\")"
   ]
  },
  {
   "cell_type": "markdown",
   "id": "0368d9d9",
   "metadata": {},
   "source": [
    "## Question 2: Check for missing values (1 point)\n",
    "\n",
    "Please include only the lines of code that you changed, in your submitted answer."
   ]
  },
  {
   "cell_type": "code",
   "execution_count": null,
   "id": "3394fa6d",
   "metadata": {},
   "outputs": [],
   "source": [
    "# fill in the function to check for missing values in the data\n",
    "# hint: The .isnull().sum() method shows missing values for each column.\n",
    "\n",
    "missing_values =  # add your code here \n",
    "\n",
    "# if the code you added above is correct, running this section should print out the answers\n",
    "print(\"missing values in each column:\")\n",
    "print(missing_values)"
   ]
  },
  {
   "cell_type": "markdown",
   "id": "884c7e7f-6c46-463f-8aa6-f66a401d5b20",
   "metadata": {},
   "source": [
    "## Question 3: Participant Demographics (2 point)\n",
    "\n",
    "What are the demographic statistics of the participants? \n",
    "\n",
    "Specifically: How many males and females are there in the dataset?\n",
    "\n",
    "What are the mean and standard deviation of age, pre-rMT, and post-rMT values?"
   ]
  },
  {
   "cell_type": "code",
   "execution_count": null,
   "id": "f44977c0-bfaa-4490-a1b6-957d9afeae32",
   "metadata": {},
   "outputs": [],
   "source": [
    "# add code to count males and females\n",
    "# hint: The .value_counts() function helps count categorical variables.\n",
    "\n",
    "sex_counts = # add your code here  \n",
    "\n",
    "# if the code you added above is correct, running this section should print out the answers\n",
    "print(\"count of participants by sex:\")\n",
    "print(sex_counts)\n",
    "\n",
    "# compute mean and standard deviation for pre- and post-rMT values by condition\n",
    "# hint: Use .groupby() to separate data by condition before applying statistics.\n",
    "\n",
    "stats_summary = # add your code here  \n",
    "\n",
    "# if the function you added above is correct, running this section should print out the answers\n",
    "print(\"mean and standard deviation for Pre MTs, and Post MTs by condition:\")\n",
    "print(stats_summary)"
   ]
  },
  {
   "cell_type": "markdown",
   "id": "c108adb9-d1e1-40e0-9b0f-aacdef51324c",
   "metadata": {},
   "source": [
    "## Question 4: Pre vs post rMT values by Condition (1 point)\n",
    "\n",
    "How do the pre- and post-rMT values compare between the active and sham conditions?\n",
    "\n",
    "Create a plot to visualise the differences between the two conditions. ( use seaborn or matplotlib, or both. e'g., import matplotlib.pyplot as plt\n",
    "import seaborn as sns)"
   ]
  },
  {
   "cell_type": "code",
   "execution_count": null,
   "id": "699dc006-3b6a-4b30-8b7f-7e91b3febd99",
   "metadata": {},
   "outputs": [],
   "source": [
    "# create boxplot comparing pre- and post-rMT values by condition\n",
    "# hint: Convert data into long format using pd.melt() before plotting.\n",
    "\n",
    "# in the code snippet below, where ever you see 3 hastags (###) add the correct column name for the correct plotting of the data\n",
    "\n",
    "tms_data = pd.melt(data, id_vars =['participant_id', ###],  \n",
    "                      value_vars=[###, ###],            \n",
    "                      var_name='time', value_name='rMT')\n",
    "plt.figure(figsize=(10, 6))\n",
    "sns.boxplot(x='condition', y='rMT', hue='time', data=tms_data, palette='Set2')\n",
    "plt.title(\"Pre vs Post rMT by Condition\")\n",
    "plt.xlabel(\"Condition\")\n",
    "plt.ylabel(\"rMT (TMS dose)\")\n",
    "plt.legend(title=\"Time\")\n",
    "plt.show()"
   ]
  },
  {
   "cell_type": "markdown",
   "id": "e56bea0a-1d4d-4c8d-9ce0-829fd28cb4ea",
   "metadata": {},
   "source": [
    "## Question 5: Correlation between Age and baseline rMT (2 points)\n",
    "\n",
    "Run the code below to plot age against baseline rMT - no need to make any changes to the code. \n",
    "\n",
    "Look at the plot and decide whether you think it is likely that there is a significant correlation between participants' age and their pre-rMT values.\n",
    "\n",
    "Please report what you concluded, and briefly explain why. "
   ]
  },
  {
   "cell_type": "code",
   "execution_count": null,
   "id": "db133532-5dce-43bf-a8aa-980bf9abc561",
   "metadata": {},
   "outputs": [],
   "source": [
    "# correlation plot for age vs pre rMTs\n",
    "corr, pval = pearsonr(data['age'], data['pre_rMT'])\n",
    "\n",
    "plt.figure(figsize=(8, 6))\n",
    "sns.regplot(x='age', y='pre_rMT', data=data, scatter_kws={'s': 50, 'alpha': 0.7, 'clip_on': False}, color='green')\n",
    "plt.title(\"age vs baseline rMT \")\n",
    "plt.xlabel(\"age (years)\")\n",
    "plt.ylabel(\"baseline rMT\")\n",
    "plt.xlim(20, 60)\n",
    "plt.ylim(45, 75)\n",
    "plt.text(35, 50, f\"correlation between age and pre rMT:\\nr = {corr:.2f}\", fontsize=12)\n",
    "plt.show()"
   ]
  },
  {
   "cell_type": "markdown",
   "id": "60d1652e-b609-4bad-9a81-4bc78457a328",
   "metadata": {},
   "source": [
    "## Question 6: Interpretation (2 points)\n",
    "\n",
    "Consider the mean pre- to post-rMT values for Active TMS vs Sham TMS that you plotted in Question 4.\n",
    "\n",
    "Without performing any statistics, just by inspecting the plots and mean values, what conclusion would you draw?\n",
    "\n",
    "What does the correlation plot of age and pre-rMT values tell us?\n",
    "\n",
    "When answering these questions, remember that pre-rTMS refers to a baseline single-pulse TMS measure of MTs before the rTMS protocol, while post-rTMS refers to the same measure after the rTMS protocol.\n"
   ]
  }
 ],
 "metadata": {
  "kernelspec": {
   "display_name": "teaching",
   "language": "python",
   "name": "python3"
  },
  "language_info": {
   "codemirror_mode": {
    "name": "ipython",
    "version": 3
   },
   "file_extension": ".py",
   "mimetype": "text/x-python",
   "name": "python",
   "nbconvert_exporter": "python",
   "pygments_lexer": "ipython3",
   "version": "3.12.0"
  }
 },
 "nbformat": 4,
 "nbformat_minor": 5
}
