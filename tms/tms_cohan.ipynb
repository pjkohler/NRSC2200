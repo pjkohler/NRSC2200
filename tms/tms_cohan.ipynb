{
 "cells": [
  {
   "cell_type": "markdown",
   "id": "baed10a0-49df-4633-bc9d-c5ec87922b46",
   "metadata": {},
   "source": [
    "Introduction to TMS and Motor Thresholds (Remy Cohan; CohanR.Github.io)\n",
    "\n",
    "As discussed earlier and you saw in the video, in TMS research, we often measure motor thresholds (MTs) using single-pulse TMS to primary motor cortex (M1). The resting motor threshold (rMT) is defined as the minimum TMS intensity that produces an electromyographic (EMG) response of 50 µV in a relaxed muscle. MTs are an important measure because they can reflect changes in neural excitability and plasticity.\n",
    "\n",
    "On the other hand, repetitive TMS (rTMS) is a different technique where multiple pulses are delivered in patterns (e.g., 1 Hz, 10 Hz, or theta burst stimulation). rTMS is gaining popularity as a potential treatment for neuropsychiatric conditions and in neurorehabilitation.\n",
    "\n",
    "To study the effects of rTMS, we can measure MTs using single-pulse TMS before and after an rTMS protocol. This allows us to see how the rTMS protocol changes neural activity in a specific brain area, which is critical when designing treatments.\n",
    "\n",
    "Remember the distinction:\n",
    "\n",
    "Single-pulse TMS: Measures MTs and neural excitability in primary motor cortex (M1).\n",
    "    \n",
    "Repetitive TMS (rTMS): Modulates neural activity to induce plasticity.\n",
    "    \n",
    "This background should help you interpret the data and answer the following questions."
   ]
  },
  {
   "cell_type": "markdown",
   "id": "4029999e-b3f0-4469-9178-4ad412947d56",
   "metadata": {},
   "source": [
    "## Preample: Import some packages "
   ]
  },
  {
   "cell_type": "code",
   "execution_count": null,
   "id": "5aecb584-dcc6-41cf-a634-a1a0fd831d83",
   "metadata": {},
   "outputs": [],
   "source": [
    "# install tools for getting data off osf, and for fitting the data\n",
    "try:\n",
    "  import google.colab\n",
    "  IN_COLAB = True\n",
    "except:\n",
    "  IN_COLAB = False\n",
    "if IN_COLAB:  \n",
    "    import shutil\n",
    "    # grab ebbinghaus code from github (make sure you have latest version)\n",
    "    shutil.rmtree(\"NRSC2200\", ignore_errors=True)\n",
    "    !git clone https://github.com/pjkohler/NRSC2200\n",
    "    # add tms directory to path\n",
    "    datapath = \"NRSC2200/tms/tms_cohan_data.csv\"\n",
    "else:\n",
    "    datapath = \"tms_cohan_data.csv\"\n",
    "# import python modules to use for analysis\n",
    "import pandas as pd\n",
    "import matplotlib.pyplot as plt\n",
    "import seaborn as sns\n",
    "from scipy.stats import pearsonr"
   ]
  },
  {
   "cell_type": "markdown",
   "id": "4025ea62",
   "metadata": {},
   "source": [
    "## Question 1: Data Inspection\n",
    "\n",
    "How many pre- and post data points are present in the dataset? Are there any missing values? (use pandas: import pandas as pd)\n",
    "\n",
    "To answer this, load the dataset and count the number of available data points for the pre_rMT and post_rMT columns."
   ]
  },
  {
   "cell_type": "code",
   "execution_count": null,
   "id": "fd837688",
   "metadata": {},
   "outputs": [],
   "source": [
    "# load the dataset\n",
    "data = pd.read_csv(datapath)\n",
    "\n",
    "# count and print the number of pre- and post-data points\n",
    "pre_count = data['pre_rMT'].notna().sum()\n",
    "post_count = data['post_rMT'].notna().sum()\n",
    "\n",
    "print(f\"Number of Pre rMT data points: {pre_count}\")\n",
    "print(f\"Number of Post rMT data points: {post_count}\")"
   ]
  },
  {
   "cell_type": "markdown",
   "id": "884c7e7f-6c46-463f-8aa6-f66a401d5b20",
   "metadata": {},
   "source": [
    "## Question 2: Participant Demographics\n",
    "\n",
    "What are the demographic statistics of the participants? Specifically:\n",
    "\n",
    "How many males and females are there in the dataset?\n",
    "\n",
    "What are the mean and standard deviation of age, pre-rMT, and post-rMT values?"
   ]
  },
  {
   "cell_type": "code",
   "execution_count": null,
   "id": "f44977c0-bfaa-4490-a1b6-957d9afeae32",
   "metadata": {},
   "outputs": [],
   "source": [
    "# count males and females\n",
    "sex_counts = data['sex'].value_counts()\n",
    "print(\"Count of participants by sex:\")\n",
    "print(sex_counts)\n",
    "\n",
    "# calculate baseline mean and standard deviation of age\n",
    "age_stats = data['age'].agg(['mean', 'std'])\n",
    "print(\"Mean and Standard Deviation for Age (Baseline):\")\n",
    "print(age_stats)\n",
    "\n",
    "# calculate mean and standard deviation for each condition (pre/post sham and active TMS)\n",
    "stats_summary = data.groupby('condition')[['pre_rMT', 'post_rMT']].agg(['mean', 'std'])\n",
    "print(\"Mean and Standard Deviation for Pre MTs, and Post MTs by Condition:\")\n",
    "print(stats_summary)"
   ]
  },
  {
   "cell_type": "markdown",
   "id": "c108adb9-d1e1-40e0-9b0f-aacdef51324c",
   "metadata": {},
   "source": [
    "## Question 3: Pre vs post rMT values by Condition\n",
    "\n",
    "How do the pre- and post-rMT values compare between the active and sham conditions?\n",
    "\n",
    "Create a plot to visualise the differences between the two conditions. ( use seaborn or matplotlib, or both. e'g., import matplotlib.pyplot as plt\n",
    "import seaborn as sns)"
   ]
  },
  {
   "cell_type": "code",
   "execution_count": null,
   "id": "699dc006-3b6a-4b30-8b7f-7e91b3febd99",
   "metadata": {},
   "outputs": [],
   "source": [
    "# prepare data for plotting\n",
    "tms_data = pd.melt(\n",
    "    data, id_vars=['participant_id', 'condition'],\n",
    "    value_vars=['pre_rMT', 'post_rMT'],\n",
    "    var_name='time', value_name='rMT'\n",
    ")\n",
    "\n",
    "# plot\n",
    "plt.figure(figsize=(10, 6))\n",
    "sns.boxplot(x='condition', y='rMT', hue='time', data=tms_data, palette='Set2')\n",
    "plt.title(\"Pre vs Post rMTs by Condition\")\n",
    "plt.xlabel(\"Condition\")\n",
    "plt.ylabel(\"rMT\")\n",
    "plt.legend(title=\"Time\")\n",
    "plt.show()"
   ]
  },
  {
   "cell_type": "markdown",
   "id": "16662fa9-bea1-4ddf-a79d-ab91976fbd24",
   "metadata": {},
   "source": [
    "## Question 4: Individual Pre vs Post trends by Condition\n",
    "\n",
    "What are the individual participant trends for pre- and post-rMT values in the active and sham conditions?\n",
    "\n",
    "Create a plot where:\n",
    "\n",
    "Active participants are shown on the left.\n",
    "    \n",
    "Sham participants are shown on the right.\n",
    "\n",
    "Each participant's pre- and post-rMT values are connected with a line, and dots represent individual data points. This type of visualisation is important to assess individual variability!"
   ]
  },
  {
   "cell_type": "code",
   "execution_count": null,
   "id": "630bca2d-d123-4d55-b4bf-55f3ee967216",
   "metadata": {},
   "outputs": [],
   "source": [
    "# prepare data for plotting\n",
    "plt.figure(figsize=(10, 6))\n",
    "\n",
    "# plot individual lines for active condition\n",
    "active_data = data[data['condition'] == 'A']\n",
    "for participant in active_data['participant_id'].unique():\n",
    "    participant_data = active_data[active_data['participant_id'] == participant]\n",
    "    plt.plot(\n",
    "        [0, 1],  # x-coordinates for Pre and Post\n",
    "        [participant_data['pre_rMT'].values[0], participant_data['post_rMT'].values[0]],\n",
    "        marker='o', color='blue', alpha=0.6, label='Active' if participant == active_data['participant_id'].unique()[0] else \"\"\n",
    "    )\n",
    "\n",
    "# plot individual lines for Sham condition\n",
    "sham_data = data[data['condition'] == 'S']\n",
    "for participant in sham_data['participant_id'].unique():\n",
    "    participant_data = sham_data[sham_data['participant_id'] == participant]\n",
    "    plt.plot(\n",
    "        [2, 3],  # x-coordinates for Pre and Post, to make things look organised! \n",
    "        [participant_data['pre_rMT'].values[0], participant_data['post_rMT'].values[0]],\n",
    "        marker='o', color='orange', alpha=0.6, label='Sham' if participant == sham_data['participant_id'].unique()[0] else \"\"\n",
    "    )\n",
    "\n",
    "# customise and beautify!\n",
    "plt.xticks([0, 1, 2, 3], ['Pre (Active)', 'Post (Active)', 'Pre (Sham)', 'Post (Sham)'])\n",
    "plt.title(\"Pre vs Post rMT values by Condition (Individual Data)\")\n",
    "plt.ylabel(\"rMT\")\n",
    "plt.xlabel(\"Condition and Time\")\n",
    "plt.legend(loc='upper right')\n",
    "plt.grid(axis='y', linestyle='--', alpha=0.7)\n",
    "\n",
    "plt.show()"
   ]
  },
  {
   "cell_type": "markdown",
   "id": "e56bea0a-1d4d-4c8d-9ce0-829fd28cb4ea",
   "metadata": {},
   "source": [
    "## Question 5: Correlation between Age and baseline rMT \n",
    "\n",
    "Is there a correlation between participants' age and their pre-rMT values?\n",
    "\n",
    "To answer this (use scipy, for example: from scipy.stats import pearsonr)\n",
    "    \n",
    "Create a scatterplot with a regression line (aka line of best fit) to visualise the relationship.\n",
    "\n",
    "Optional: Calculate the Pearson correlation coefficient and the p-value."
   ]
  },
  {
   "cell_type": "code",
   "execution_count": null,
   "id": "db133532-5dce-43bf-a8aa-980bf9abc561",
   "metadata": {},
   "outputs": [],
   "source": [
    "# correlation plot for age vs pre rMTs\n",
    "corr, pval = pearsonr(data['age'], data['pre_rMT'])\n",
    "print(f\"Correlation between Age and Pre rMT: r = {corr:.2f}, p = {pval:.4f}\")\n",
    "\n",
    "plt.figure(figsize=(8, 6))\n",
    "sns.regplot(x='age', y='pre_rMT', data=data, scatter_kws={'s': 50, 'alpha': 0.7}, color='green')\n",
    "plt.title(\"Correlation: Age vs Baseline rMT \")\n",
    "plt.xlabel(\"Age (years)\")\n",
    "plt.ylabel(\"Baseline rMT\")\n",
    "plt.show()"
   ]
  },
  {
   "cell_type": "markdown",
   "id": "60d1652e-b609-4bad-9a81-4bc78457a328",
   "metadata": {},
   "source": [
    "## Question 6: Interpretation\n",
    "\n",
    "Without performing any statistics, just by inspecting the plots and mean values:\n",
    "\n",
    "Based on the mean pre- to post-rMT values for Active TMS vs Sham TMS, what conclusion would you draw?\n",
    "\n",
    "What does the correlation plot of age and pre-rMT values (baseline MTs) tell us? "
   ]
  },
  {
   "cell_type": "markdown",
   "id": "f7e1e7f7-dc0c-440b-9736-0627a4abad64",
   "metadata": {},
   "source": [
    "Answer Key: Question 6\n",
    "\n",
    "Mean Pre- to Post-rMT Values:\n",
    "Based on the plots, it seems like Active TMS increased rMTs from pre to post, while Sham did not. Additionally, the individual data shows that the effects are fairly consistent across participants, with increased rMTs in the Active condition but flat responses in the Sham condition.\n",
    "\n",
    "Correlation Between Age and Pre-rMT values:\n",
    "The correlation plot suggests that, at baseline, older individuals may have higher threshold values. While this does not necessarily affect the effects of rTMS on thresholds, it indicates that older individuals may require higher stimulation intensity (dose). \n",
    "\n"
   ]
  }
 ],
 "metadata": {
  "kernelspec": {
   "display_name": "Python 3 (ipykernel)",
   "language": "python",
   "name": "python3"
  },
  "language_info": {
   "codemirror_mode": {
    "name": "ipython",
    "version": 3
   },
   "file_extension": ".py",
   "mimetype": "text/x-python",
   "name": "python",
   "nbconvert_exporter": "python",
   "pygments_lexer": "ipython3",
   "version": "3.11.7"
  }
 },
 "nbformat": 4,
 "nbformat_minor": 5
}
