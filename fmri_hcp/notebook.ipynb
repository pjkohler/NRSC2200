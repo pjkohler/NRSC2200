{
 "cells": [
  {
   "cell_type": "markdown",
   "source": "# Human Connectome Project (HCP) Dataset loader\n\nThe HCP dataset comprises resting-state and task-based fMRI from a large sample of human subjects. The NMA-curated dataset includes time series data that has been preprocessed and spatially-downsampled by aggregating within 360 regions of interest.",
   "metadata": {
    "tags": [],
    "cell_id": "00001-19d02af8-a663-42c5-a2a4-0496b7c6ce17",
    "deepnote_cell_type": "markdown"
   }
  },
  {
   "cell_type": "code",
   "metadata": {
    "tags": [],
    "cell_id": "00002-f5173d9f-3e33-487d-9295-98a2561b117a",
    "deepnote_to_be_reexecuted": false,
    "source_hash": "cef58d46",
    "execution_millis": 269,
    "execution_start": 1617848419763,
    "deepnote_cell_type": "code"
   },
   "source": "import os\nimport numpy as np\nimport matplotlib.pyplot as plt",
   "execution_count": null,
   "outputs": []
  },
  {
   "cell_type": "code",
   "metadata": {
    "tags": [],
    "cell_id": "00002-7f79a38d-cd7b-41b2-955d-304d1efbb473",
    "deepnote_to_be_reexecuted": false,
    "source_hash": "1876d62e",
    "execution_millis": 3987,
    "execution_start": 1617848420039,
    "deepnote_cell_type": "code"
   },
   "source": "# Necessary for visualization\n!pip install nilearn --quiet\nfrom nilearn import plotting, datasets",
   "execution_count": null,
   "outputs": [
    {
     "name": "stdout",
     "text": "\u001b[33mWARNING: You are using pip version 20.1.1; however, version 21.0.1 is available.\nYou should consider upgrading via the '/root/venv/bin/python -m pip install --upgrade pip' command.\u001b[0m\n/root/venv/lib/python3.7/site-packages/nilearn/datasets/__init__.py:90: FutureWarning: Fetchers from the nilearn.datasets module will be updated in version 0.9 to return python strings instead of bytes and Pandas dataframes instead of Numpy arrays.\n  \"Numpy arrays.\", FutureWarning)\n",
     "output_type": "stream"
    }
   ]
  },
  {
   "cell_type": "code",
   "metadata": {
    "tags": [],
    "cell_id": "00003-c5c274e8-d2f0-49a8-8d49-8d2e969beb16",
    "deepnote_to_be_reexecuted": false,
    "source_hash": "61aa7fce",
    "execution_millis": 143,
    "is_code_hidden": false,
    "execution_start": 1617848423993,
    "deepnote_cell_type": "code"
   },
   "source": "# Figure settings\n%matplotlib inline\n%config InlineBackend.figure_format = 'retina'\nplt.style.use(\"https://raw.githubusercontent.com/NeuromatchAcademy/course-content/master/nma.mplstyle\")",
   "execution_count": null,
   "outputs": []
  },
  {
   "cell_type": "code",
   "metadata": {
    "tags": [],
    "cell_id": "00004-33735045-aa2a-4fe1-85ec-356a8099d6bb",
    "deepnote_to_be_reexecuted": false,
    "source_hash": "f620f31e",
    "execution_millis": 1,
    "execution_start": 1617848424141,
    "deepnote_cell_type": "code"
   },
   "source": "# The download cells will store the data in nested directories starting here:\nHCP_DIR = \"./hcp\"\nif not os.path.isdir(HCP_DIR):\n  os.mkdir(HCP_DIR)\n\n# The data shared for NMA projects is a subset of the full HCP dataset\nN_SUBJECTS = 339\n\n# The data have already been aggregated into ROIs from the Glasesr parcellation\nN_PARCELS = 360\n\n# The acquisition parameters for all tasks were identical\nTR = 0.72  # Time resolution, in sec\n\n# The parcels are matched across hemispheres with the same order\nHEMIS = [\"Right\", \"Left\"]\n\n# Each experiment was repeated multiple times in each subject\nN_RUNS_REST = 4\nN_RUNS_TASK = 2\n\n# Time series data are organized by experiment, with each experiment\n# having an LR and RL (phase-encode direction) acquistion\nBOLD_NAMES = [\n  \"rfMRI_REST1_LR\", \"rfMRI_REST1_RL\",\n  \"rfMRI_REST2_LR\", \"rfMRI_REST2_RL\",\n  \"tfMRI_MOTOR_RL\", \"tfMRI_MOTOR_LR\",\n  \"tfMRI_WM_RL\", \"tfMRI_WM_LR\",\n  \"tfMRI_EMOTION_RL\", \"tfMRI_EMOTION_LR\",\n  \"tfMRI_GAMBLING_RL\", \"tfMRI_GAMBLING_LR\",\n  \"tfMRI_LANGUAGE_RL\", \"tfMRI_LANGUAGE_LR\",\n  \"tfMRI_RELATIONAL_RL\", \"tfMRI_RELATIONAL_LR\",\n  \"tfMRI_SOCIAL_RL\", \"tfMRI_SOCIAL_LR\"\n]\n\n# You may want to limit the subjects used during code development.\n# This will use all subjects:\nsubjects = range(N_SUBJECTS)",
   "execution_count": null,
   "outputs": []
  },
  {
   "cell_type": "markdown",
   "source": "# Downloading data\n\nThe rest and task data are shared in different files, but they will unpack into the same directory structure.\n\nEach file is fairly large and will take some time to download. If you are focusing only on rest or task analyses, you may not want to download only that dataset.\n\nWe also separately provide some potentially useful behavioral covariate information.",
   "metadata": {
    "tags": [],
    "cell_id": "00006-8fd82518-0077-4e8a-97af-a681244a1d0d",
    "deepnote_cell_type": "markdown"
   }
  },
  {
   "cell_type": "markdown",
   "source": "<a style='text-decoration:none;line-height:16px;display:flex;color:#5B5B62;padding:10px;justify-content:end;' href='https://deepnote.com?utm_source=created-in-deepnote-cell&projectId=302822b2-b758-49ed-8f0c-200a4a578026' target=\"_blank\">\n<img alt='Created in deepnote.com' style='display:inline;max-height:16px;margin:0px;margin-right:7.5px;' src='data:image/svg+xml;base64,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' > </img>\nCreated in <span style='font-weight:600;margin-left:4px;'>Deepnote</span></a>",
   "metadata": {
    "tags": [],
    "created_in_deepnote_cell": true,
    "deepnote_cell_type": "markdown"
   }
  }
 ],
 "nbformat": 4,
 "nbformat_minor": 2,
 "metadata": {
  "orig_nbformat": 2,
  "deepnote": {
   "is_reactive": false
  },
  "deepnote_notebook_id": "e67db14e-79a3-4caf-a5c3-fbc4c6d79974",
  "deepnote_execution_queue": []
 }
}