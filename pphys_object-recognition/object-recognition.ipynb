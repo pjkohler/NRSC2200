{
 "cells": [
  {
   "cell_type": "code",
   "execution_count": 326,
   "metadata": {
    "cell_id": "00000-3df10703-604d-4e4d-b7e4-0c48cb7e45da",
    "deepnote_cell_type": "code",
    "deepnote_to_be_reexecuted": false,
    "execution_millis": 6318,
    "execution_start": 1643303697123,
    "source_hash": "b97f439c",
    "tags": []
   },
   "outputs": [],
   "source": [
    "# import python packages to use for analysis\n",
    "import numpy as np\n",
    "import pandas as pd\n",
    "import os\n",
    "import glob\n",
    "import pprint\n",
    "import matplotlib.pyplot as plt\n",
    "import matplotlib.patches as patches\n",
    "from matplotlib.colors import ListedColormap\n",
    "import seaborn as sns\n",
    "from scipy.stats import norm\n",
    "import ast\n",
    "Z = norm.ppf"
   ]
  },
  {
   "cell_type": "code",
   "execution_count": 327,
   "metadata": {
    "cell_id": "00001-1b1b72db-540a-4bc0-9f0b-9cadc7d133af",
    "deepnote_cell_type": "code",
    "deepnote_to_be_reexecuted": false,
    "execution_millis": 2210,
    "execution_start": 1643303894254,
    "source_hash": "ac864561",
    "tags": []
   },
   "outputs": [],
   "source": [
    "data_dir = [\"./data\"]\n",
    "\n",
    "# define empty lists that will hold the number of subjects, rejected subjects and test subjects\n",
    "sub_count = [0]*len(data_dir)    # included datasets\n",
    "reject_count = [0]*len(data_dir) # complete datasets, but rejected due to performance\n",
    "test_count = [0]*len(data_dir)   # incomplete test datasets\n",
    "\n",
    "complete_subs = [] # subjects that produced complete datasets\n",
    "\n",
    "prac_n = 16 # number of practice trials\n",
    "exp_n = 160 # number of experiment trials\n",
    "\n",
    "all_data = []\n",
    "\n",
    "\n",
    "for e, cur_dir in enumerate(data_dir):\n",
    "    file_list = glob.glob(cur_dir + \"/object_recognition*.csv\")\n",
    "    file_list.sort()\n",
    "    exp_subs = [] # list to hold the subjects in this experiment\n",
    "    for file in file_list:\n",
    "        # load the data\n",
    "        try:\n",
    "            sub_data = pd.read_csv(file)\n",
    "            if \"trial_type\" not in sub_data:\n",
    "                sub_data = pd.read_csv(file, skiprows=1)\n",
    "            # in the past, some trials were duplicated in the data file, the code below takes care of that\n",
    "            sub_data = sub_data[sub_data['trial_index'].apply(lambda x: str(x).isdigit())]\n",
    "            sub_data = sub_data.drop_duplicates()\n",
    "        except:\n",
    "            print(\"Failed to load file {0}\".format(file.split(cur_dir)[1]))\n",
    "        # get id\n",
    "        try:\n",
    "            survey_resp = sub_data[sub_data[\"trial_type\"]==\"survey-html-form\"].loc[0][\"response\"]\n",
    "            survey_resp = survey_resp.replace(':\"}',':\"\"}')\n",
    "            sub_info = ast.literal_eval(survey_resp)\n",
    "        except:\n",
    "            sub_info = {}\n",
    "        # see if id was stored\n",
    "        if 'p_id' in sub_info.keys():  \n",
    "            sub_id = sub_info[\"p_id\"]\n",
    "        else:\n",
    "            sub_id = \"nan\"\n",
    "            \n",
    "        # do quality control on the data\n",
    "        if sub_data.shape[1] < 10:\n",
    "            print(e, sub_id, \"incomplete file, shape:{0}x{1}\".format(sub_data.shape[0],sub_data.shape[1]))\n",
    "            test_count[e] = test_count[e] + 1 # record test subject to the test_count, by adding 1 at the relevant position\n",
    "            continue\n",
    "        \n",
    "        # now skip if this subjects data is already in the set\n",
    "        #if sub_id in exp_subs:\n",
    "        #    continue\n",
    "        \n",
    "        # add participant to list of subjects for this experiment\n",
    "        exp_subs.append(sub_id)\n",
    "        \n",
    "        # start populating sub_info dict: \n",
    "        sub_info[\"experiment\"] = e\n",
    "        sub_info[\"ID\"] = sub_id\n",
    "        \n",
    "        # get data from file\n",
    "        images = sub_data[\"images\"]\n",
    "        left_choice = sub_data[\"left_choice\"]\n",
    "        right_choice = sub_data[\"right_choice\"]\n",
    "        rts = sub_data[\"rt\"]\n",
    "        response = sub_data[\"button_pressed\"] # 0 = left; 1 = right;\n",
    "        valid_loc = [ ~np.isnan(x) for x in images ]\n",
    "        valid_images = [ int(x) for i, x in enumerate(images) if valid_loc[i] ] # image number\n",
    "        valid_left = [ int(x) for i, x in enumerate(left_choice) if valid_loc[i] ] # which object appeared as left choice\n",
    "        valid_right = [ int(x) for i, x in enumerate(right_choice) if valid_loc[i] ]\n",
    "        valid_response = [ int(response[i+1]) for i, x in enumerate(response) if valid_loc[i] ] # which side did the subject choose\n",
    "        choices = [ [l, r] for l, r in zip(valid_left, valid_right) ]\n",
    "        valid_rt = [ float(rts[i+1]) for i, x in enumerate(rts) if valid_loc[i] ] # reaction time\n",
    "        \n",
    "        correct_obj_no = np.tile(range(10),[20,1])\n",
    "        correct_obj_no = correct_obj_no.flatten(\"F\") # corresponding correct object number per image\n",
    "        correct_choice = [ correct_obj_no[x] for x in valid_images ]\n",
    "        \n",
    "        ##  compile the data table that will be used in future analysis\n",
    "\n",
    "        num_trials = sum(valid_loc) # total trials\n",
    "        \n",
    "        # lets fetch all the relevant trial variables for each trial\n",
    "        sub_info[\"im_no\"] = valid_images; # all image numbers\n",
    "        sub_info[\"target\"] = correct_choice; # what was the target object number?            \n",
    "        sub_info[\"distractor\"] = [ int(np.array(i) [i != j ]) for i, j in zip(choices, correct_choice) ] # what was the distractor object number?\n",
    "        sub_info[\"response\"] = [ i [j] for i, j in zip(choices, valid_response) ] # which object with the subject choose?\n",
    "        sub_info[\"correct\"] = [i == j for i, j in zip(sub_info[\"response\"], sub_info[\"target\"])]\n",
    "        sub_info[\"rt\"] = valid_rt\n",
    "        \n",
    "        unique_objects = np.unique(correct_obj_no) # unique object numbers\n",
    "        num_objects = len(unique_objects);      # how many objects are there?\n",
    "        \n",
    "        sub_conf = np.empty((num_objects, num_objects))\n",
    "        sub_conf[:] = np.nan\n",
    "        \n",
    "        for i in unique_objects:\n",
    "            for j in unique_objects:\n",
    "                cur_idx = [t == i and d == j for t,d in zip(sub_info[\"target\"], sub_info[\"distractor\"])]\n",
    "                if np.sum(cur_idx) > 0:\n",
    "                    sub_conf[i,j] = 1 - np.nanmean(np.array(sub_info[\"correct\"])[cur_idx])\n",
    "        sub_info[\"conf\"] = sub_conf\n",
    "        all_data.append(sub_info)\n",
    "        \n"
   ]
  },
  {
   "cell_type": "code",
   "execution_count": 350,
   "metadata": {},
   "outputs": [
    {
     "name": "stdout",
     "output_type": "stream",
     "text": [
      "[0.90954774 0.91457286 0.86432161 0.79899497 0.91959799 0.94974874\n",
      " 0.86934673 0.94472362 0.88944724 0.86432161 0.88944724 0.63316583]\n"
     ]
    },
    {
     "name": "stderr",
     "output_type": "stream",
     "text": [
      "/Users/kohler/anaconda3/lib/python3.7/site-packages/ipykernel_launcher.py:2: RuntimeWarning: Mean of empty slice\n",
      "  \n"
     ]
    }
   ],
   "source": [
    "all_conf = np.array([x[\"conf\"] for x in all_data ])\n",
    "mean_conf = np.nanmean(all_conf, 0)\n",
    "all_corr = np.array([np.mean(x[\"correct\"]) for x in all_data ])\n",
    "mean_corr = np.nanmean(all_corr)\n",
    "print(all_corr)\n"
   ]
  },
  {
   "cell_type": "code",
   "execution_count": 345,
   "metadata": {
    "cell_id": "00002-e5a56cd0-53af-4308-be9f-7429449b1c29",
    "deepnote_cell_type": "code",
    "deepnote_to_be_reexecuted": false,
    "execution_millis": 47,
    "execution_start": 1643303734785,
    "source_hash": "946e5b8"
   },
   "outputs": [
    {
     "data": {
      "image/png": "[encoded data removed]",
      "text/plain": [
       "<Figure size 720x720 with 2 Axes>"
      ]
     },
     "metadata": {
      "needs_background": "light"
     },
     "output_type": "display_data"
    }
   ],
   "source": [
    "## plot confusion matrix\n",
    "labels = ['bear','elephant','person','car','dog','apple','chair','plane','bird','zebra']\n",
    "conf_df = pd.DataFrame(mean_conf, columns = labels, index = labels)\n",
    "fig, ax = plt.subplots(nrows=1, ncols=1, figsize=(10,10))\n",
    "font = {'family' : 'sans-serif',\n",
    "        'weight' : 'normal',\n",
    "        'size'   : 12}\n",
    "plt.rc('font', **font)\n",
    "sns.heatmap(\n",
    "    np.where(conf_df.isna(), 0, np.nan),\n",
    "    ax=ax,\n",
    "    cbar=False,\n",
    "    annot=np.full_like(conf_df, \"NA\", dtype=object),\n",
    "    fmt=\"\",\n",
    "    annot_kws={\"size\": 10, \"va\": \"center_baseline\", \"color\": \"black\"},\n",
    "    cmap=ListedColormap(['none']),\n",
    "    linewidth=0)\n",
    "sns.heatmap(\n",
    "    conf_df, \n",
    "    ax=ax, \n",
    "    vmin=0, vmax=.4, \n",
    "    cbar=True, cbar_kws={'shrink':.4}, \n",
    "    cmap=sns.color_palette(\"viridis\", 100), \n",
    "    square=True) \n",
    "\n",
    "ax.set_xticklabels(labels, rotation = 45, ha=\"center\")\n",
    "plt.xlabel(\"distractor\")\n",
    "plt.ylabel(\"target\")\n",
    "ax.set_yticklabels(labels, rotation = 45, va=\"center\")\n",
    "ax.tick_params(length=10, width=2)\n",
    "plt.tight_layout()"
   ]
  }
 ],
 "metadata": {
  "deepnote": {
   "is_reactive": false
  },
  "deepnote_execution_queue": [],
  "deepnote_notebook_id": "cb230051-44ac-4368-ae81-c257a4783978",
  "kernelspec": {
   "display_name": "Python 3 (ipykernel)",
   "language": "python",
   "name": "python3"
  },
  "language_info": {
   "codemirror_mode": {
    "name": "ipython",
    "version": 3
   },
   "file_extension": ".py",
   "mimetype": "text/x-python",
   "name": "python",
   "nbconvert_exporter": "python",
   "pygments_lexer": "ipython3",
   "version": "3.7.4"
  }
 },
 "nbformat": 4,
 "nbformat_minor": 2
}
